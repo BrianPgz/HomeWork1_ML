{
 "cells": [
  {
   "cell_type": "markdown",
   "id": "9014cec7",
   "metadata": {},
   "source": [
    "# Tarea 1\n",
    "## Ejercicio 1\n",
    "El objetivo de las bases es que realicemos un modelo de clasificación para poder contestar la siguiente pregunta: **¿Damos un crédito bancario o no?**\n",
    "\n",
    "### Parte 1: Exploración de las bases\n",
    "Para empezar con la exploración de la base, tendrán que generar un análisis descriptivo de la información que les compartiré:\n",
    "\n",
    " 1. Los campos _id_ que son los identificadores de la información.\n",
    " 2. _base_ini_interna_.\n",
    " 3. _base_ini_parte1_.\n",
    " 4. _base_ini_externa_.\n",
    " 5. Bases de comportamiento.\n",
    " 6. _base_inversión_, que es una variable simulada de una gamma.\n",
    " 7. Cuando una variable es categórica, está implícito en el nombre de la base. No tenemos un diccionario, simplemente son categóricas.\n",
    " 8. El resto entonces son continuas. Es decir, los nombre estám enmascarados."
   ]
  },
  {
   "cell_type": "markdown",
   "id": "8f869315",
   "metadata": {},
   "source": [
    "Utilizaremos _sqldf_, así que antes se debe instalar de ser necesario."
   ]
  },
  {
   "cell_type": "code",
   "execution_count": 1,
   "id": "7aff005a",
   "metadata": {},
   "outputs": [
    {
     "name": "stdout",
     "output_type": "stream",
     "text": [
      "Requirement already satisfied: sqldf in /home/alberto/anaconda3/lib/python3.8/site-packages (0.4.2)\n",
      "Note: you may need to restart the kernel to use updated packages.\n"
     ]
    }
   ],
   "source": [
    "pip install sqldf"
   ]
  },
  {
   "cell_type": "markdown",
   "id": "815aee37",
   "metadata": {},
   "source": [
    "A continuación se cargarán las bibliotecas que serán, muy probablemente, utilizadas."
   ]
  },
  {
   "cell_type": "code",
   "execution_count": 2,
   "id": "7f7c4d16",
   "metadata": {},
   "outputs": [],
   "source": [
    "#import sqlite3\n",
    "import sqldf\n",
    "import pandas as pd\n",
    "from pylab import*\n",
    "import numpy as np\n",
    "import scipy.stats \n",
    "from scipy.special import gamma\n",
    "import seaborn as sns\n",
    "from scipy.stats import beta\n",
    "from scipy.stats import spearmanr\n",
    "import pandas as pd"
   ]
  },
  {
   "cell_type": "markdown",
   "id": "581cda9f",
   "metadata": {},
   "source": [
    "Ahora procedemos a cargar cada una de las bases del enunciado, iniciando los primeros pasos exploratorios. De manera general, se aplicará el mismo procedimiento a cada base y después, dependiendo de los datos que cada una presente, se observarán algunos tratamientos distintos. El procedimiento default corresponde a sacar, con _info()_, un resumen general de los tipos de datos que manejan las bases. Además, con sqldf se validará que no haya id's repetido si es el caso."
   ]
  },
  {
   "cell_type": "code",
   "execution_count": 3,
   "id": "fd150365",
   "metadata": {},
   "outputs": [
    {
     "data": {
      "text/html": [
       "<div>\n",
       "<style scoped>\n",
       "    .dataframe tbody tr th:only-of-type {\n",
       "        vertical-align: middle;\n",
       "    }\n",
       "\n",
       "    .dataframe tbody tr th {\n",
       "        vertical-align: top;\n",
       "    }\n",
       "\n",
       "    .dataframe thead th {\n",
       "        text-align: right;\n",
       "    }\n",
       "</style>\n",
       "<table border=\"1\" class=\"dataframe\">\n",
       "  <thead>\n",
       "    <tr style=\"text-align: right;\">\n",
       "      <th></th>\n",
       "      <th>_id_</th>\n",
       "      <th>comp_externo1</th>\n",
       "      <th>comp_externo2</th>\n",
       "      <th>comp_externo3</th>\n",
       "      <th>comp_externo4</th>\n",
       "    </tr>\n",
       "  </thead>\n",
       "  <tbody>\n",
       "    <tr>\n",
       "      <th>0</th>\n",
       "      <td>78213</td>\n",
       "      <td>260.869565</td>\n",
       "      <td>25.854639</td>\n",
       "      <td>56.0</td>\n",
       "      <td>-230.0</td>\n",
       "    </tr>\n",
       "    <tr>\n",
       "      <th>1</th>\n",
       "      <td>76457</td>\n",
       "      <td>40.579710</td>\n",
       "      <td>2.872738</td>\n",
       "      <td>62.0</td>\n",
       "      <td>-230.0</td>\n",
       "    </tr>\n",
       "    <tr>\n",
       "      <th>2</th>\n",
       "      <td>40666</td>\n",
       "      <td>NaN</td>\n",
       "      <td>NaN</td>\n",
       "      <td>119.0</td>\n",
       "      <td>-230.0</td>\n",
       "    </tr>\n",
       "    <tr>\n",
       "      <th>3</th>\n",
       "      <td>8329</td>\n",
       "      <td>349.275362</td>\n",
       "      <td>34.616490</td>\n",
       "      <td>94.0</td>\n",
       "      <td>-230.0</td>\n",
       "    </tr>\n",
       "    <tr>\n",
       "      <th>4</th>\n",
       "      <td>68389</td>\n",
       "      <td>276.811594</td>\n",
       "      <td>27.434645</td>\n",
       "      <td>125.0</td>\n",
       "      <td>-230.0</td>\n",
       "    </tr>\n",
       "  </tbody>\n",
       "</table>\n",
       "</div>"
      ],
      "text/plain": [
       "    _id_  comp_externo1  comp_externo2  comp_externo3  comp_externo4\n",
       "0  78213     260.869565      25.854639           56.0         -230.0\n",
       "1  76457      40.579710       2.872738           62.0         -230.0\n",
       "2  40666            NaN            NaN          119.0         -230.0\n",
       "3   8329     349.275362      34.616490           94.0         -230.0\n",
       "4  68389     276.811594      27.434645          125.0         -230.0"
      ]
     },
     "execution_count": 3,
     "metadata": {},
     "output_type": "execute_result"
    }
   ],
   "source": [
    "ruta = \"./data/\"\n",
    "bd = \"base_ini_externa.txt\"\n",
    "bd_ini_externa = pd.read_csv(ruta+bd,sep=\" \")\n",
    "bd_ini_externa.head()"
   ]
  },
  {
   "cell_type": "code",
   "execution_count": 4,
   "id": "65d95234",
   "metadata": {},
   "outputs": [
    {
     "name": "stdout",
     "output_type": "stream",
     "text": [
      "<class 'pandas.core.frame.DataFrame'>\n",
      "RangeIndex: 50000 entries, 0 to 49999\n",
      "Data columns (total 5 columns):\n",
      " #   Column         Non-Null Count  Dtype  \n",
      "---  ------         --------------  -----  \n",
      " 0   _id_           50000 non-null  int64  \n",
      " 1   comp_externo1  47831 non-null  float64\n",
      " 2   comp_externo2  44410 non-null  float64\n",
      " 3   comp_externo3  49994 non-null  float64\n",
      " 4   comp_externo4  50000 non-null  float64\n",
      "dtypes: float64(4), int64(1)\n",
      "memory usage: 1.9 MB\n"
     ]
    }
   ],
   "source": [
    "bd_ini_externa.info()"
   ]
  },
  {
   "cell_type": "code",
   "execution_count": 5,
   "id": "23c279b0",
   "metadata": {},
   "outputs": [
    {
     "data": {
      "text/plain": [
       "50000"
      ]
     },
     "execution_count": 5,
     "metadata": {},
     "output_type": "execute_result"
    }
   ],
   "source": [
    "len(bd_ini_externa[\"_id_\"].unique())"
   ]
  },
  {
   "cell_type": "markdown",
   "id": "7c48b564",
   "metadata": {},
   "source": [
    "Podemos observar que en esta base no hay identificadores nulos y además el número de identificadores distintos es el total de identificadores, por lo que no hay identificadores repetidos.\n",
    "\n",
    "Sin embargo, los componentes externos 1, 2 y 3 sí tienen 2169, 5590 y 6 celdas nulas respectivamente.\n",
    "**NOTA: ¿Tenemos que cambiar los null?**"
   ]
  },
  {
   "cell_type": "code",
   "execution_count": 6,
   "id": "1480b79d",
   "metadata": {},
   "outputs": [
    {
     "data": {
      "text/html": [
       "<div>\n",
       "<style scoped>\n",
       "    .dataframe tbody tr th:only-of-type {\n",
       "        vertical-align: middle;\n",
       "    }\n",
       "\n",
       "    .dataframe tbody tr th {\n",
       "        vertical-align: top;\n",
       "    }\n",
       "\n",
       "    .dataframe thead th {\n",
       "        text-align: right;\n",
       "    }\n",
       "</style>\n",
       "<table border=\"1\" class=\"dataframe\">\n",
       "  <thead>\n",
       "    <tr style=\"text-align: right;\">\n",
       "      <th></th>\n",
       "      <th>_id_</th>\n",
       "      <th>fecha_inicio</th>\n",
       "      <th>comp_interno1</th>\n",
       "      <th>comp_interno2</th>\n",
       "      <th>comp_interno3</th>\n",
       "      <th>comp_interno4</th>\n",
       "      <th>categoria1</th>\n",
       "      <th>categoria2</th>\n",
       "      <th>categoria3</th>\n",
       "    </tr>\n",
       "  </thead>\n",
       "  <tbody>\n",
       "    <tr>\n",
       "      <th>0</th>\n",
       "      <td>78213</td>\n",
       "      <td>2020-03-25</td>\n",
       "      <td>0.000000</td>\n",
       "      <td>b'0'</td>\n",
       "      <td>11.0</td>\n",
       "      <td>58.0</td>\n",
       "      <td>2.0</td>\n",
       "      <td>9.0</td>\n",
       "      <td>156.0</td>\n",
       "    </tr>\n",
       "    <tr>\n",
       "      <th>1</th>\n",
       "      <td>76457</td>\n",
       "      <td>2020-02-13</td>\n",
       "      <td>0.000000</td>\n",
       "      <td>b'1'</td>\n",
       "      <td>28.0</td>\n",
       "      <td>45.0</td>\n",
       "      <td>1.0</td>\n",
       "      <td>4.0</td>\n",
       "      <td>173.0</td>\n",
       "    </tr>\n",
       "    <tr>\n",
       "      <th>2</th>\n",
       "      <td>40666</td>\n",
       "      <td>2018-01-24</td>\n",
       "      <td>0.000000</td>\n",
       "      <td>b'1'</td>\n",
       "      <td>25.0</td>\n",
       "      <td>45.0</td>\n",
       "      <td>1.0</td>\n",
       "      <td>9.0</td>\n",
       "      <td>170.0</td>\n",
       "    </tr>\n",
       "    <tr>\n",
       "      <th>3</th>\n",
       "      <td>8329</td>\n",
       "      <td>2016-10-07</td>\n",
       "      <td>0.000000</td>\n",
       "      <td>b'1'</td>\n",
       "      <td>14.0</td>\n",
       "      <td>59.0</td>\n",
       "      <td>3.0</td>\n",
       "      <td>3.0</td>\n",
       "      <td>159.0</td>\n",
       "    </tr>\n",
       "    <tr>\n",
       "      <th>4</th>\n",
       "      <td>68389</td>\n",
       "      <td>2019-07-30</td>\n",
       "      <td>2026.342452</td>\n",
       "      <td>b'1'</td>\n",
       "      <td>1.0</td>\n",
       "      <td>67.0</td>\n",
       "      <td>2.0</td>\n",
       "      <td>9.0</td>\n",
       "      <td>146.0</td>\n",
       "    </tr>\n",
       "  </tbody>\n",
       "</table>\n",
       "</div>"
      ],
      "text/plain": [
       "    _id_ fecha_inicio  comp_interno1 comp_interno2  comp_interno3  \\\n",
       "0  78213   2020-03-25       0.000000          b'0'           11.0   \n",
       "1  76457   2020-02-13       0.000000          b'1'           28.0   \n",
       "2  40666   2018-01-24       0.000000          b'1'           25.0   \n",
       "3   8329   2016-10-07       0.000000          b'1'           14.0   \n",
       "4  68389   2019-07-30    2026.342452          b'1'            1.0   \n",
       "\n",
       "   comp_interno4  categoria1  categoria2  categoria3  \n",
       "0           58.0         2.0         9.0       156.0  \n",
       "1           45.0         1.0         4.0       173.0  \n",
       "2           45.0         1.0         9.0       170.0  \n",
       "3           59.0         3.0         3.0       159.0  \n",
       "4           67.0         2.0         9.0       146.0  "
      ]
     },
     "execution_count": 6,
     "metadata": {},
     "output_type": "execute_result"
    }
   ],
   "source": [
    "bd=\"base_ini_interna.csv\"\n",
    "bd_ini_interna = pd.read_csv(ruta+bd)\n",
    "bd_ini_interna.head()"
   ]
  },
  {
   "cell_type": "code",
   "execution_count": 7,
   "id": "967d8eaa",
   "metadata": {},
   "outputs": [
    {
     "name": "stdout",
     "output_type": "stream",
     "text": [
      "<class 'pandas.core.frame.DataFrame'>\n",
      "RangeIndex: 50000 entries, 0 to 49999\n",
      "Data columns (total 9 columns):\n",
      " #   Column         Non-Null Count  Dtype  \n",
      "---  ------         --------------  -----  \n",
      " 0   _id_           50000 non-null  int64  \n",
      " 1   fecha_inicio   50000 non-null  object \n",
      " 2   comp_interno1  50000 non-null  float64\n",
      " 3   comp_interno2  50000 non-null  object \n",
      " 4   comp_interno3  50000 non-null  float64\n",
      " 5   comp_interno4  50000 non-null  float64\n",
      " 6   categoria1     50000 non-null  float64\n",
      " 7   categoria2     50000 non-null  float64\n",
      " 8   categoria3     50000 non-null  float64\n",
      "dtypes: float64(6), int64(1), object(2)\n",
      "memory usage: 3.4+ MB\n"
     ]
    }
   ],
   "source": [
    "bd_ini_interna.info()"
   ]
  },
  {
   "cell_type": "code",
   "execution_count": 8,
   "id": "97cd1194",
   "metadata": {},
   "outputs": [
    {
     "data": {
      "text/plain": [
       "50000"
      ]
     },
     "execution_count": 8,
     "metadata": {},
     "output_type": "execute_result"
    }
   ],
   "source": [
    "len(bd_ini_interna[\"_id_\"].unique())"
   ]
  },
  {
   "cell_type": "markdown",
   "id": "06efe58b",
   "metadata": {},
   "source": [
    "Por lo que esta base no tiene entradas nulas, tiene el mismo número de identificadores que la base anterior y todos son distintos."
   ]
  },
  {
   "cell_type": "code",
   "execution_count": 9,
   "id": "45d77bdd",
   "metadata": {},
   "outputs": [
    {
     "data": {
      "text/html": [
       "<div>\n",
       "<style scoped>\n",
       "    .dataframe tbody tr th:only-of-type {\n",
       "        vertical-align: middle;\n",
       "    }\n",
       "\n",
       "    .dataframe tbody tr th {\n",
       "        vertical-align: top;\n",
       "    }\n",
       "\n",
       "    .dataframe thead th {\n",
       "        text-align: right;\n",
       "    }\n",
       "</style>\n",
       "<table border=\"1\" class=\"dataframe\">\n",
       "  <thead>\n",
       "    <tr style=\"text-align: right;\">\n",
       "      <th></th>\n",
       "      <th>_id_</th>\n",
       "      <th>_id2_</th>\n",
       "      <th>comp_mixto1</th>\n",
       "    </tr>\n",
       "  </thead>\n",
       "  <tbody>\n",
       "    <tr>\n",
       "      <th>0</th>\n",
       "      <td>78213</td>\n",
       "      <td>1798899</td>\n",
       "      <td>0.33522</td>\n",
       "    </tr>\n",
       "    <tr>\n",
       "      <th>1</th>\n",
       "      <td>76457</td>\n",
       "      <td>1758511</td>\n",
       "      <td>0.33334</td>\n",
       "    </tr>\n",
       "    <tr>\n",
       "      <th>2</th>\n",
       "      <td>40666</td>\n",
       "      <td>935318</td>\n",
       "      <td>0.29186</td>\n",
       "    </tr>\n",
       "    <tr>\n",
       "      <th>3</th>\n",
       "      <td>8329</td>\n",
       "      <td>191567</td>\n",
       "      <td>0.29112</td>\n",
       "    </tr>\n",
       "    <tr>\n",
       "      <th>4</th>\n",
       "      <td>68389</td>\n",
       "      <td>1572947</td>\n",
       "      <td>0.27318</td>\n",
       "    </tr>\n",
       "  </tbody>\n",
       "</table>\n",
       "</div>"
      ],
      "text/plain": [
       "    _id_    _id2_  comp_mixto1\n",
       "0  78213  1798899      0.33522\n",
       "1  76457  1758511      0.33334\n",
       "2  40666   935318      0.29186\n",
       "3   8329   191567      0.29112\n",
       "4  68389  1572947      0.27318"
      ]
     },
     "execution_count": 9,
     "metadata": {},
     "output_type": "execute_result"
    }
   ],
   "source": [
    "bd=\"base_ini_parte1.csv\"\n",
    "bd_ini_parte1 = pd.read_csv(ruta+bd)\n",
    "bd_ini_parte1.head()"
   ]
  },
  {
   "cell_type": "code",
   "execution_count": 10,
   "id": "31310f66",
   "metadata": {},
   "outputs": [
    {
     "name": "stdout",
     "output_type": "stream",
     "text": [
      "<class 'pandas.core.frame.DataFrame'>\n",
      "RangeIndex: 50000 entries, 0 to 49999\n",
      "Data columns (total 3 columns):\n",
      " #   Column       Non-Null Count  Dtype  \n",
      "---  ------       --------------  -----  \n",
      " 0   _id_         50000 non-null  int64  \n",
      " 1   _id2_        50000 non-null  int64  \n",
      " 2   comp_mixto1  50000 non-null  float64\n",
      "dtypes: float64(1), int64(2)\n",
      "memory usage: 1.1 MB\n"
     ]
    }
   ],
   "source": [
    "bd_ini_parte1.info()"
   ]
  },
  {
   "cell_type": "code",
   "execution_count": 11,
   "id": "aa9409c8",
   "metadata": {},
   "outputs": [
    {
     "data": {
      "text/plain": [
       "50000"
      ]
     },
     "execution_count": 11,
     "metadata": {},
     "output_type": "execute_result"
    }
   ],
   "source": [
    "len(bd_ini_parte1[\"_id_\"])"
   ]
  },
  {
   "cell_type": "code",
   "execution_count": 12,
   "id": "414f8c38",
   "metadata": {},
   "outputs": [
    {
     "data": {
      "text/plain": [
       "50000"
      ]
     },
     "execution_count": 12,
     "metadata": {},
     "output_type": "execute_result"
    }
   ],
   "source": [
    "len(bd_ini_parte1[\"_id2_\"])"
   ]
  },
  {
   "cell_type": "markdown",
   "id": "a8d1a71d",
   "metadata": {},
   "source": [
    "Por lo tanto en esta base no hay entradas con _null_ y ambos identificadores son únicos."
   ]
  },
  {
   "cell_type": "code",
   "execution_count": 13,
   "id": "b72be631",
   "metadata": {},
   "outputs": [
    {
     "data": {
      "text/html": [
       "<div>\n",
       "<style scoped>\n",
       "    .dataframe tbody tr th:only-of-type {\n",
       "        vertical-align: middle;\n",
       "    }\n",
       "\n",
       "    .dataframe tbody tr th {\n",
       "        vertical-align: top;\n",
       "    }\n",
       "\n",
       "    .dataframe thead th {\n",
       "        text-align: right;\n",
       "    }\n",
       "</style>\n",
       "<table border=\"1\" class=\"dataframe\">\n",
       "  <thead>\n",
       "    <tr style=\"text-align: right;\">\n",
       "      <th></th>\n",
       "      <th>num_caso</th>\n",
       "      <th>mes_informacion</th>\n",
       "      <th>Tiempo_aparicion</th>\n",
       "    </tr>\n",
       "  </thead>\n",
       "  <tbody>\n",
       "    <tr>\n",
       "      <th>0</th>\n",
       "      <td>1</td>\n",
       "      <td>2016-04-01 00:00:00</td>\n",
       "      <td>0.0</td>\n",
       "    </tr>\n",
       "    <tr>\n",
       "      <th>1</th>\n",
       "      <td>1</td>\n",
       "      <td>2016-05-01 00:00:00</td>\n",
       "      <td>1.0</td>\n",
       "    </tr>\n",
       "    <tr>\n",
       "      <th>2</th>\n",
       "      <td>1</td>\n",
       "      <td>2016-06-01 00:00:00</td>\n",
       "      <td>2.0</td>\n",
       "    </tr>\n",
       "    <tr>\n",
       "      <th>3</th>\n",
       "      <td>1</td>\n",
       "      <td>2016-07-01 00:00:00</td>\n",
       "      <td>3.0</td>\n",
       "    </tr>\n",
       "    <tr>\n",
       "      <th>4</th>\n",
       "      <td>1</td>\n",
       "      <td>2016-08-01 00:00:00</td>\n",
       "      <td>4.0</td>\n",
       "    </tr>\n",
       "  </tbody>\n",
       "</table>\n",
       "</div>"
      ],
      "text/plain": [
       "   num_caso      mes_informacion  Tiempo_aparicion\n",
       "0         1  2016-04-01 00:00:00               0.0\n",
       "1         1  2016-05-01 00:00:00               1.0\n",
       "2         1  2016-06-01 00:00:00               2.0\n",
       "3         1  2016-07-01 00:00:00               3.0\n",
       "4         1  2016-08-01 00:00:00               4.0"
      ]
     },
     "execution_count": 13,
     "metadata": {},
     "output_type": "execute_result"
    }
   ],
   "source": [
    "bd = \"base_comportamiento_2.txt\"\n",
    "bd_comportamiento_2 = pd.read_csv(ruta+bd,sep=\" \",low_memory=False)\n",
    "bd_comportamiento_2.head()"
   ]
  },
  {
   "cell_type": "code",
   "execution_count": 14,
   "id": "6ef4252f",
   "metadata": {},
   "outputs": [
    {
     "name": "stdout",
     "output_type": "stream",
     "text": [
      "<class 'pandas.core.frame.DataFrame'>\n",
      "RangeIndex: 1455536 entries, 0 to 1455535\n",
      "Data columns (total 3 columns):\n",
      " #   Column            Non-Null Count    Dtype  \n",
      "---  ------            --------------    -----  \n",
      " 0   num_caso          1455536 non-null  int64  \n",
      " 1   mes_informacion   1455536 non-null  object \n",
      " 2   Tiempo_aparicion  1455536 non-null  float64\n",
      "dtypes: float64(1), int64(1), object(1)\n",
      "memory usage: 33.3+ MB\n"
     ]
    }
   ],
   "source": [
    "bd_comportamiento_2.info()"
   ]
  },
  {
   "cell_type": "code",
   "execution_count": 15,
   "id": "550aaa6c",
   "metadata": {},
   "outputs": [
    {
     "data": {
      "text/plain": [
       "49352"
      ]
     },
     "execution_count": 15,
     "metadata": {},
     "output_type": "execute_result"
    }
   ],
   "source": [
    "len(bd_comportamiento_2[\"num_caso\"].unique())"
   ]
  },
  {
   "cell_type": "markdown",
   "id": "7410b92a",
   "metadata": {},
   "source": [
    "Podemos observar que todas las llaves, en este caso _num_caso_ son no vacías. Por ejemplo, esta base (_bd_comportamiento_2_) tiene un comportamiento peculiar. Parece ser que, en resumen, registra el tiempo desde que un caso (_id_) empieza un trámite. Sin embargo, existe una duda: ¿qué pasa si un caso inicia otro procedimiento en algún momento dado? ¿se vuelve a comenzar desde cero? La siguiente consulta está pensada para que nos dé esa información, además, en el proceso, se logra que sólo aparezcan los valores únicos de los números de casos:"
   ]
  },
  {
   "cell_type": "code",
   "execution_count": 16,
   "id": "40a2b28a",
   "metadata": {},
   "outputs": [
    {
     "data": {
      "text/html": [
       "<div>\n",
       "<style scoped>\n",
       "    .dataframe tbody tr th:only-of-type {\n",
       "        vertical-align: middle;\n",
       "    }\n",
       "\n",
       "    .dataframe tbody tr th {\n",
       "        vertical-align: top;\n",
       "    }\n",
       "\n",
       "    .dataframe thead th {\n",
       "        text-align: right;\n",
       "    }\n",
       "</style>\n",
       "<table border=\"1\" class=\"dataframe\">\n",
       "  <thead>\n",
       "    <tr style=\"text-align: right;\">\n",
       "      <th></th>\n",
       "      <th>num_caso</th>\n",
       "      <th>count(num_caso)</th>\n",
       "      <th>max(Tiempo_aparicion)</th>\n",
       "    </tr>\n",
       "  </thead>\n",
       "  <tbody>\n",
       "    <tr>\n",
       "      <th>0</th>\n",
       "      <td>1</td>\n",
       "      <td>62</td>\n",
       "      <td>61.0</td>\n",
       "    </tr>\n",
       "    <tr>\n",
       "      <th>1</th>\n",
       "      <td>7</td>\n",
       "      <td>29</td>\n",
       "      <td>28.0</td>\n",
       "    </tr>\n",
       "    <tr>\n",
       "      <th>2</th>\n",
       "      <td>8</td>\n",
       "      <td>63</td>\n",
       "      <td>51.0</td>\n",
       "    </tr>\n",
       "    <tr>\n",
       "      <th>3</th>\n",
       "      <td>9</td>\n",
       "      <td>15</td>\n",
       "      <td>14.0</td>\n",
       "    </tr>\n",
       "    <tr>\n",
       "      <th>4</th>\n",
       "      <td>10</td>\n",
       "      <td>16</td>\n",
       "      <td>15.0</td>\n",
       "    </tr>\n",
       "  </tbody>\n",
       "</table>\n",
       "</div>"
      ],
      "text/plain": [
       "   num_caso  count(num_caso)  max(Tiempo_aparicion)\n",
       "0         1               62                   61.0\n",
       "1         7               29                   28.0\n",
       "2         8               63                   51.0\n",
       "3         9               15                   14.0\n",
       "4        10               16                   15.0"
      ]
     },
     "execution_count": 16,
     "metadata": {},
     "output_type": "execute_result"
    }
   ],
   "source": [
    "query =\"\"\"\n",
    "       select num_caso,count(num_caso), max(Tiempo_aparicion) \n",
    "       from bd_comportamiento_2 group by num_caso       \n",
    "       \"\"\"\n",
    "sqldf.run(query).head()"
   ]
  },
  {
   "cell_type": "markdown",
   "id": "90addcab",
   "metadata": {},
   "source": [
    "La consulta en el registro 2 indica que el máximo registro del tiempo no siempre es lo mismo que la cantidad de registros que tiene un caso dado (salvo por un número que se agrega por el cero) que es lo que se esperaría. Esto es un indicativo de que , en efecto, la base puede iniciar el registro de un mismo caso más adelante en el tiempo. La siguiente consulta dice cuántas veces un caso inició un proceso:"
   ]
  },
  {
   "cell_type": "code",
   "execution_count": 17,
   "id": "386f76aa",
   "metadata": {},
   "outputs": [
    {
     "data": {
      "text/html": [
       "<div>\n",
       "<style scoped>\n",
       "    .dataframe tbody tr th:only-of-type {\n",
       "        vertical-align: middle;\n",
       "    }\n",
       "\n",
       "    .dataframe tbody tr th {\n",
       "        vertical-align: top;\n",
       "    }\n",
       "\n",
       "    .dataframe thead th {\n",
       "        text-align: right;\n",
       "    }\n",
       "</style>\n",
       "<table border=\"1\" class=\"dataframe\">\n",
       "  <thead>\n",
       "    <tr style=\"text-align: right;\">\n",
       "      <th></th>\n",
       "      <th>num_caso</th>\n",
       "      <th>cantidad_tramites</th>\n",
       "    </tr>\n",
       "  </thead>\n",
       "  <tbody>\n",
       "    <tr>\n",
       "      <th>0</th>\n",
       "      <td>1</td>\n",
       "      <td>1</td>\n",
       "    </tr>\n",
       "    <tr>\n",
       "      <th>1</th>\n",
       "      <td>7</td>\n",
       "      <td>1</td>\n",
       "    </tr>\n",
       "    <tr>\n",
       "      <th>2</th>\n",
       "      <td>8</td>\n",
       "      <td>5</td>\n",
       "    </tr>\n",
       "    <tr>\n",
       "      <th>3</th>\n",
       "      <td>9</td>\n",
       "      <td>1</td>\n",
       "    </tr>\n",
       "    <tr>\n",
       "      <th>4</th>\n",
       "      <td>10</td>\n",
       "      <td>1</td>\n",
       "    </tr>\n",
       "  </tbody>\n",
       "</table>\n",
       "</div>"
      ],
      "text/plain": [
       "   num_caso  cantidad_tramites\n",
       "0         1                  1\n",
       "1         7                  1\n",
       "2         8                  5\n",
       "3         9                  1\n",
       "4        10                  1"
      ]
     },
     "execution_count": 17,
     "metadata": {},
     "output_type": "execute_result"
    }
   ],
   "source": [
    "query =\"\"\"\n",
    "       select num_caso,count(Tiempo_aparicion) as cantidad_tramites \n",
    "       from bd_comportamiento_2 where Tiempo_aparicion=0\n",
    "       group by num_caso, Tiempo_aparicion    \n",
    "       \"\"\"\n",
    "sqldf.run(query).head()"
   ]
  },
  {
   "cell_type": "code",
   "execution_count": 18,
   "id": "2da0f1e6",
   "metadata": {},
   "outputs": [
    {
     "data": {
      "text/html": [
       "<div>\n",
       "<style scoped>\n",
       "    .dataframe tbody tr th:only-of-type {\n",
       "        vertical-align: middle;\n",
       "    }\n",
       "\n",
       "    .dataframe tbody tr th {\n",
       "        vertical-align: top;\n",
       "    }\n",
       "\n",
       "    .dataframe thead th {\n",
       "        text-align: right;\n",
       "    }\n",
       "</style>\n",
       "<table border=\"1\" class=\"dataframe\">\n",
       "  <thead>\n",
       "    <tr style=\"text-align: right;\">\n",
       "      <th></th>\n",
       "      <th>num_caso</th>\n",
       "      <th>mes_informacion</th>\n",
       "      <th>comportamiento_j</th>\n",
       "    </tr>\n",
       "  </thead>\n",
       "  <tbody>\n",
       "    <tr>\n",
       "      <th>0</th>\n",
       "      <td>1</td>\n",
       "      <td>2016-04-01 00:00:00</td>\n",
       "      <td>0.0</td>\n",
       "    </tr>\n",
       "    <tr>\n",
       "      <th>1</th>\n",
       "      <td>1</td>\n",
       "      <td>2016-05-01 00:00:00</td>\n",
       "      <td>0.0</td>\n",
       "    </tr>\n",
       "    <tr>\n",
       "      <th>2</th>\n",
       "      <td>1</td>\n",
       "      <td>2016-06-01 00:00:00</td>\n",
       "      <td>0.0</td>\n",
       "    </tr>\n",
       "    <tr>\n",
       "      <th>3</th>\n",
       "      <td>1</td>\n",
       "      <td>2016-07-01 00:00:00</td>\n",
       "      <td>0.0</td>\n",
       "    </tr>\n",
       "    <tr>\n",
       "      <th>4</th>\n",
       "      <td>1</td>\n",
       "      <td>2016-08-01 00:00:00</td>\n",
       "      <td>0.0</td>\n",
       "    </tr>\n",
       "  </tbody>\n",
       "</table>\n",
       "</div>"
      ],
      "text/plain": [
       "   num_caso      mes_informacion  comportamiento_j\n",
       "0         1  2016-04-01 00:00:00               0.0\n",
       "1         1  2016-05-01 00:00:00               0.0\n",
       "2         1  2016-06-01 00:00:00               0.0\n",
       "3         1  2016-07-01 00:00:00               0.0\n",
       "4         1  2016-08-01 00:00:00               0.0"
      ]
     },
     "execution_count": 18,
     "metadata": {},
     "output_type": "execute_result"
    }
   ],
   "source": [
    "bd = \"base_comportamiento_3.csv\"\n",
    "bd_comportamiento_3 = pd.read_csv(ruta+bd,low_memory=False)\n",
    "bd_comportamiento_3.head()"
   ]
  },
  {
   "cell_type": "code",
   "execution_count": 19,
   "id": "4081c380",
   "metadata": {},
   "outputs": [
    {
     "name": "stdout",
     "output_type": "stream",
     "text": [
      "<class 'pandas.core.frame.DataFrame'>\n",
      "RangeIndex: 1455536 entries, 0 to 1455535\n",
      "Data columns (total 3 columns):\n",
      " #   Column            Non-Null Count    Dtype  \n",
      "---  ------            --------------    -----  \n",
      " 0   num_caso          1455536 non-null  int64  \n",
      " 1   mes_informacion   1455536 non-null  object \n",
      " 2   comportamiento_j  1455536 non-null  float64\n",
      "dtypes: float64(1), int64(1), object(1)\n",
      "memory usage: 33.3+ MB\n"
     ]
    }
   ],
   "source": [
    "bd_comportamiento_3.info()"
   ]
  },
  {
   "cell_type": "code",
   "execution_count": 20,
   "id": "861a12f3",
   "metadata": {},
   "outputs": [
    {
     "data": {
      "text/plain": [
       "49352"
      ]
     },
     "execution_count": 20,
     "metadata": {},
     "output_type": "execute_result"
    }
   ],
   "source": [
    "len(bd_comportamiento_3[\"num_caso\"].unique())"
   ]
  },
  {
   "cell_type": "markdown",
   "id": "3f2ab4e1",
   "metadata": {},
   "source": [
    "**REVISAR**"
   ]
  },
  {
   "cell_type": "code",
   "execution_count": 21,
   "id": "6c076d7f",
   "metadata": {},
   "outputs": [
    {
     "data": {
      "text/html": [
       "<div>\n",
       "<style scoped>\n",
       "    .dataframe tbody tr th:only-of-type {\n",
       "        vertical-align: middle;\n",
       "    }\n",
       "\n",
       "    .dataframe tbody tr th {\n",
       "        vertical-align: top;\n",
       "    }\n",
       "\n",
       "    .dataframe thead th {\n",
       "        text-align: right;\n",
       "    }\n",
       "</style>\n",
       "<table border=\"1\" class=\"dataframe\">\n",
       "  <thead>\n",
       "    <tr style=\"text-align: right;\">\n",
       "      <th></th>\n",
       "      <th>_id2_</th>\n",
       "      <th>inversion</th>\n",
       "    </tr>\n",
       "  </thead>\n",
       "  <tbody>\n",
       "    <tr>\n",
       "      <th>0</th>\n",
       "      <td>1758511</td>\n",
       "      <td>0.041039</td>\n",
       "    </tr>\n",
       "    <tr>\n",
       "      <th>1</th>\n",
       "      <td>1572947</td>\n",
       "      <td>77.422135</td>\n",
       "    </tr>\n",
       "    <tr>\n",
       "      <th>2</th>\n",
       "      <td>1051836</td>\n",
       "      <td>90.539953</td>\n",
       "    </tr>\n",
       "    <tr>\n",
       "      <th>3</th>\n",
       "      <td>1223255</td>\n",
       "      <td>90.205018</td>\n",
       "    </tr>\n",
       "    <tr>\n",
       "      <th>4</th>\n",
       "      <td>1894602</td>\n",
       "      <td>1.071354</td>\n",
       "    </tr>\n",
       "  </tbody>\n",
       "</table>\n",
       "</div>"
      ],
      "text/plain": [
       "     _id2_  inversion\n",
       "0  1758511   0.041039\n",
       "1  1572947  77.422135\n",
       "2  1051836  90.539953\n",
       "3  1223255  90.205018\n",
       "4  1894602   1.071354"
      ]
     },
     "execution_count": 21,
     "metadata": {},
     "output_type": "execute_result"
    }
   ],
   "source": [
    "bd=\"base_inversion.txt\"\n",
    "bd_base_inversion= pd.read_csv(ruta+bd,sep=\" \")\n",
    "bd_base_inversion.head()"
   ]
  },
  {
   "cell_type": "code",
   "execution_count": 22,
   "id": "d1a4bf35",
   "metadata": {},
   "outputs": [
    {
     "name": "stdout",
     "output_type": "stream",
     "text": [
      "<class 'pandas.core.frame.DataFrame'>\n",
      "RangeIndex: 17536 entries, 0 to 17535\n",
      "Data columns (total 2 columns):\n",
      " #   Column     Non-Null Count  Dtype  \n",
      "---  ------     --------------  -----  \n",
      " 0   _id2_      17536 non-null  int64  \n",
      " 1   inversion  17536 non-null  float64\n",
      "dtypes: float64(1), int64(1)\n",
      "memory usage: 274.1 KB\n"
     ]
    }
   ],
   "source": [
    "bd_base_inversion.info()"
   ]
  },
  {
   "cell_type": "code",
   "execution_count": 23,
   "id": "57f0a83a",
   "metadata": {},
   "outputs": [
    {
     "data": {
      "text/plain": [
       "17536"
      ]
     },
     "execution_count": 23,
     "metadata": {},
     "output_type": "execute_result"
    }
   ],
   "source": [
    "len(bd_base_inversion[\"_id2_\"].unique())"
   ]
  },
  {
   "cell_type": "code",
   "execution_count": 24,
   "id": "bba1171c",
   "metadata": {},
   "outputs": [
    {
     "data": {
      "text/html": [
       "<div>\n",
       "<style scoped>\n",
       "    .dataframe tbody tr th:only-of-type {\n",
       "        vertical-align: middle;\n",
       "    }\n",
       "\n",
       "    .dataframe tbody tr th {\n",
       "        vertical-align: top;\n",
       "    }\n",
       "\n",
       "    .dataframe thead th {\n",
       "        text-align: right;\n",
       "    }\n",
       "</style>\n",
       "<table border=\"1\" class=\"dataframe\">\n",
       "  <thead>\n",
       "    <tr style=\"text-align: right;\">\n",
       "      <th></th>\n",
       "      <th>_id_</th>\n",
       "      <th>_id2_</th>\n",
       "      <th>comp_mixto1</th>\n",
       "    </tr>\n",
       "  </thead>\n",
       "  <tbody>\n",
       "    <tr>\n",
       "      <th>0</th>\n",
       "      <td>78213</td>\n",
       "      <td>1798899</td>\n",
       "      <td>0.33522</td>\n",
       "    </tr>\n",
       "    <tr>\n",
       "      <th>1</th>\n",
       "      <td>76457</td>\n",
       "      <td>1758511</td>\n",
       "      <td>0.33334</td>\n",
       "    </tr>\n",
       "    <tr>\n",
       "      <th>2</th>\n",
       "      <td>40666</td>\n",
       "      <td>935318</td>\n",
       "      <td>0.29186</td>\n",
       "    </tr>\n",
       "    <tr>\n",
       "      <th>3</th>\n",
       "      <td>8329</td>\n",
       "      <td>191567</td>\n",
       "      <td>0.29112</td>\n",
       "    </tr>\n",
       "    <tr>\n",
       "      <th>4</th>\n",
       "      <td>68389</td>\n",
       "      <td>1572947</td>\n",
       "      <td>0.27318</td>\n",
       "    </tr>\n",
       "  </tbody>\n",
       "</table>\n",
       "</div>"
      ],
      "text/plain": [
       "    _id_    _id2_  comp_mixto1\n",
       "0  78213  1798899      0.33522\n",
       "1  76457  1758511      0.33334\n",
       "2  40666   935318      0.29186\n",
       "3   8329   191567      0.29112\n",
       "4  68389  1572947      0.27318"
      ]
     },
     "execution_count": 24,
     "metadata": {},
     "output_type": "execute_result"
    }
   ],
   "source": [
    "bd=\"base_ini_parte1.csv\"\n",
    "bd_ini_parte1= pd.read_csv(ruta+bd)\n",
    "bd_ini_parte1.head()"
   ]
  },
  {
   "cell_type": "code",
   "execution_count": 25,
   "id": "7d747bce",
   "metadata": {},
   "outputs": [
    {
     "name": "stdout",
     "output_type": "stream",
     "text": [
      "<class 'pandas.core.frame.DataFrame'>\n",
      "RangeIndex: 50000 entries, 0 to 49999\n",
      "Data columns (total 3 columns):\n",
      " #   Column       Non-Null Count  Dtype  \n",
      "---  ------       --------------  -----  \n",
      " 0   _id_         50000 non-null  int64  \n",
      " 1   _id2_        50000 non-null  int64  \n",
      " 2   comp_mixto1  50000 non-null  float64\n",
      "dtypes: float64(1), int64(2)\n",
      "memory usage: 1.1 MB\n"
     ]
    }
   ],
   "source": [
    "bd_ini_parte1.info()"
   ]
  },
  {
   "cell_type": "code",
   "execution_count": 26,
   "id": "6c2ee2e2",
   "metadata": {},
   "outputs": [
    {
     "data": {
      "text/plain": [
       "50000"
      ]
     },
     "execution_count": 26,
     "metadata": {},
     "output_type": "execute_result"
    }
   ],
   "source": [
    "len(bd_ini_parte1[\"_id_\"].unique())"
   ]
  },
  {
   "cell_type": "code",
   "execution_count": 27,
   "id": "ce48853c",
   "metadata": {},
   "outputs": [
    {
     "data": {
      "text/plain": [
       "50000"
      ]
     },
     "execution_count": 27,
     "metadata": {},
     "output_type": "execute_result"
    }
   ],
   "source": [
    "len(bd_ini_parte1[\"_id2_\"].unique())"
   ]
  },
  {
   "cell_type": "code",
   "execution_count": null,
   "id": "fe860e05",
   "metadata": {},
   "outputs": [],
   "source": []
  },
  {
   "cell_type": "markdown",
   "id": "92223d49",
   "metadata": {},
   "source": [
    "### Parte 2: Cruces\n",
    "¿Cómo hicimos los cruces?"
   ]
  },
  {
   "cell_type": "markdown",
   "id": "696cd899",
   "metadata": {},
   "source": [
    "### Parte 3: Análisis\n",
    "¿Qué análisis podemos realizar?"
   ]
  }
 ],
 "metadata": {
  "kernelspec": {
   "display_name": "Python 3 (ipykernel)",
   "language": "python",
   "name": "python3"
  },
  "language_info": {
   "codemirror_mode": {
    "name": "ipython",
    "version": 3
   },
   "file_extension": ".py",
   "mimetype": "text/x-python",
   "name": "python",
   "nbconvert_exporter": "python",
   "pygments_lexer": "ipython3",
   "version": "3.8.8"
  }
 },
 "nbformat": 4,
 "nbformat_minor": 5
}
