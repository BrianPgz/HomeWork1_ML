{
 "cells": [
  {
   "cell_type": "markdown",
   "metadata": {},
   "source": [
    "Vamos a empezar a explorar las bases de datos "
   ]
  },
  {
   "cell_type": "code",
   "execution_count": 53,
   "metadata": {},
   "outputs": [
    {
     "name": "stdout",
     "output_type": "stream",
     "text": [
      "Requirement already satisfied: sqldf in /home/alberto/anaconda3/lib/python3.8/site-packages (0.4.2)\n",
      "Note: you may need to restart the kernel to use updated packages.\n"
     ]
    }
   ],
   "source": [
    "pip install sqldf"
   ]
  },
  {
   "cell_type": "markdown",
   "metadata": {},
   "source": [
    "# Tarea 1\n",
    "A continuación se cargarán las bibliotecas que serán, muy probablemente, utilizadas. "
   ]
  },
  {
   "cell_type": "code",
   "execution_count": 2,
   "metadata": {},
   "outputs": [],
   "source": [
    "#import sqlite3\n",
    "import sqldf\n",
    "import pandas as pd\n",
    "from pylab import*\n",
    "import numpy as np\n",
    "import scipy.stats \n",
    "from scipy.special import gamma\n",
    "import seaborn as sns\n",
    "from scipy.stats import beta\n",
    "from scipy.stats import spearmanr\n",
    "import pandas as pd\n",
    "from sklearn import linear_model"
   ]
  },
  {
   "cell_type": "markdown",
   "metadata": {},
   "source": [
    "Ahora procedemos a cargar cada una de las bases del enunciado, iniciando los primeros pasos exploratorios. De manera general, se aplicará el mismo procedimiento a cada base y después, dependiendo de los datos que cada una presente, se observarán algunos tratamientos distintos. El procedimiento default corresponde a sacar, con info(), un resumen general de los tipos de datos que manejan las bases. Además, con sqldf se validará que no haya id's repetido si es el caso. "
   ]
  },
  {
   "cell_type": "code",
   "execution_count": 68,
   "metadata": {},
   "outputs": [
    {
     "data": {
      "text/html": [
       "<div>\n",
       "<style scoped>\n",
       "    .dataframe tbody tr th:only-of-type {\n",
       "        vertical-align: middle;\n",
       "    }\n",
       "\n",
       "    .dataframe tbody tr th {\n",
       "        vertical-align: top;\n",
       "    }\n",
       "\n",
       "    .dataframe thead th {\n",
       "        text-align: right;\n",
       "    }\n",
       "</style>\n",
       "<table border=\"1\" class=\"dataframe\">\n",
       "  <thead>\n",
       "    <tr style=\"text-align: right;\">\n",
       "      <th></th>\n",
       "      <th>_id_</th>\n",
       "      <th>comp_externo1</th>\n",
       "      <th>comp_externo2</th>\n",
       "      <th>comp_externo3</th>\n",
       "      <th>comp_externo4</th>\n",
       "    </tr>\n",
       "  </thead>\n",
       "  <tbody>\n",
       "    <tr>\n",
       "      <th>0</th>\n",
       "      <td>78213</td>\n",
       "      <td>260.869565</td>\n",
       "      <td>25.854639</td>\n",
       "      <td>56.0</td>\n",
       "      <td>-230.0</td>\n",
       "    </tr>\n",
       "    <tr>\n",
       "      <th>1</th>\n",
       "      <td>76457</td>\n",
       "      <td>40.579710</td>\n",
       "      <td>2.872738</td>\n",
       "      <td>62.0</td>\n",
       "      <td>-230.0</td>\n",
       "    </tr>\n",
       "    <tr>\n",
       "      <th>2</th>\n",
       "      <td>40666</td>\n",
       "      <td>NaN</td>\n",
       "      <td>NaN</td>\n",
       "      <td>119.0</td>\n",
       "      <td>-230.0</td>\n",
       "    </tr>\n",
       "    <tr>\n",
       "      <th>3</th>\n",
       "      <td>8329</td>\n",
       "      <td>349.275362</td>\n",
       "      <td>34.616490</td>\n",
       "      <td>94.0</td>\n",
       "      <td>-230.0</td>\n",
       "    </tr>\n",
       "    <tr>\n",
       "      <th>4</th>\n",
       "      <td>68389</td>\n",
       "      <td>276.811594</td>\n",
       "      <td>27.434645</td>\n",
       "      <td>125.0</td>\n",
       "      <td>-230.0</td>\n",
       "    </tr>\n",
       "  </tbody>\n",
       "</table>\n",
       "</div>"
      ],
      "text/plain": [
       "    _id_  comp_externo1  comp_externo2  comp_externo3  comp_externo4\n",
       "0  78213     260.869565      25.854639           56.0         -230.0\n",
       "1  76457      40.579710       2.872738           62.0         -230.0\n",
       "2  40666            NaN            NaN          119.0         -230.0\n",
       "3   8329     349.275362      34.616490           94.0         -230.0\n",
       "4  68389     276.811594      27.434645          125.0         -230.0"
      ]
     },
     "execution_count": 68,
     "metadata": {},
     "output_type": "execute_result"
    }
   ],
   "source": [
    "ruta = \"./data/\"\n",
    "bd = \"base_ini_externa.txt\"\n",
    "bd_ini_externa = pd.read_csv(ruta+bd,sep=\" \")\n",
    "bd_ini_externa.head()"
   ]
  },
  {
   "cell_type": "code",
   "execution_count": 66,
   "metadata": {},
   "outputs": [
    {
     "name": "stdout",
     "output_type": "stream",
     "text": [
      "<class 'pandas.core.frame.DataFrame'>\n",
      "RangeIndex: 50000 entries, 0 to 49999\n",
      "Data columns (total 5 columns):\n",
      " #   Column         Non-Null Count  Dtype  \n",
      "---  ------         --------------  -----  \n",
      " 0   _id_           50000 non-null  int64  \n",
      " 1   comp_externo1  47831 non-null  float64\n",
      " 2   comp_externo2  44410 non-null  float64\n",
      " 3   comp_externo3  49994 non-null  float64\n",
      " 4   comp_externo4  50000 non-null  float64\n",
      "dtypes: float64(4), int64(1)\n",
      "memory usage: 1.9 MB\n"
     ]
    }
   ],
   "source": [
    "bd_ini_externa.info()"
   ]
  },
  {
   "cell_type": "code",
   "execution_count": 24,
   "metadata": {},
   "outputs": [
    {
     "data": {
      "text/plain": [
       "50000"
      ]
     },
     "execution_count": 24,
     "metadata": {},
     "output_type": "execute_result"
    }
   ],
   "source": [
    "query =\"\"\"\n",
    "       select distinct(_id_) as id\n",
    "       from bd_ini_externa       \n",
    "       \"\"\"\n",
    "len(sqldf.run(query))"
   ]
  },
  {
   "cell_type": "code",
   "execution_count": 63,
   "metadata": {},
   "outputs": [
    {
     "data": {
      "text/html": [
       "<div>\n",
       "<style scoped>\n",
       "    .dataframe tbody tr th:only-of-type {\n",
       "        vertical-align: middle;\n",
       "    }\n",
       "\n",
       "    .dataframe tbody tr th {\n",
       "        vertical-align: top;\n",
       "    }\n",
       "\n",
       "    .dataframe thead th {\n",
       "        text-align: right;\n",
       "    }\n",
       "</style>\n",
       "<table border=\"1\" class=\"dataframe\">\n",
       "  <thead>\n",
       "    <tr style=\"text-align: right;\">\n",
       "      <th></th>\n",
       "      <th>_id_</th>\n",
       "      <th>fecha_inicio</th>\n",
       "      <th>comp_interno1</th>\n",
       "      <th>comp_interno2</th>\n",
       "      <th>comp_interno3</th>\n",
       "      <th>comp_interno4</th>\n",
       "      <th>categoria1</th>\n",
       "      <th>categoria2</th>\n",
       "      <th>categoria3</th>\n",
       "    </tr>\n",
       "  </thead>\n",
       "  <tbody>\n",
       "    <tr>\n",
       "      <th>0</th>\n",
       "      <td>78213</td>\n",
       "      <td>2020-03-25</td>\n",
       "      <td>0.000000</td>\n",
       "      <td>b'0'</td>\n",
       "      <td>11.0</td>\n",
       "      <td>58.0</td>\n",
       "      <td>2.0</td>\n",
       "      <td>9.0</td>\n",
       "      <td>156.0</td>\n",
       "    </tr>\n",
       "    <tr>\n",
       "      <th>1</th>\n",
       "      <td>76457</td>\n",
       "      <td>2020-02-13</td>\n",
       "      <td>0.000000</td>\n",
       "      <td>b'1'</td>\n",
       "      <td>28.0</td>\n",
       "      <td>45.0</td>\n",
       "      <td>1.0</td>\n",
       "      <td>4.0</td>\n",
       "      <td>173.0</td>\n",
       "    </tr>\n",
       "    <tr>\n",
       "      <th>2</th>\n",
       "      <td>40666</td>\n",
       "      <td>2018-01-24</td>\n",
       "      <td>0.000000</td>\n",
       "      <td>b'1'</td>\n",
       "      <td>25.0</td>\n",
       "      <td>45.0</td>\n",
       "      <td>1.0</td>\n",
       "      <td>9.0</td>\n",
       "      <td>170.0</td>\n",
       "    </tr>\n",
       "    <tr>\n",
       "      <th>3</th>\n",
       "      <td>8329</td>\n",
       "      <td>2016-10-07</td>\n",
       "      <td>0.000000</td>\n",
       "      <td>b'1'</td>\n",
       "      <td>14.0</td>\n",
       "      <td>59.0</td>\n",
       "      <td>3.0</td>\n",
       "      <td>3.0</td>\n",
       "      <td>159.0</td>\n",
       "    </tr>\n",
       "    <tr>\n",
       "      <th>4</th>\n",
       "      <td>68389</td>\n",
       "      <td>2019-07-30</td>\n",
       "      <td>2026.342452</td>\n",
       "      <td>b'1'</td>\n",
       "      <td>1.0</td>\n",
       "      <td>67.0</td>\n",
       "      <td>2.0</td>\n",
       "      <td>9.0</td>\n",
       "      <td>146.0</td>\n",
       "    </tr>\n",
       "  </tbody>\n",
       "</table>\n",
       "</div>"
      ],
      "text/plain": [
       "    _id_ fecha_inicio  comp_interno1 comp_interno2  comp_interno3  \\\n",
       "0  78213   2020-03-25       0.000000          b'0'           11.0   \n",
       "1  76457   2020-02-13       0.000000          b'1'           28.0   \n",
       "2  40666   2018-01-24       0.000000          b'1'           25.0   \n",
       "3   8329   2016-10-07       0.000000          b'1'           14.0   \n",
       "4  68389   2019-07-30    2026.342452          b'1'            1.0   \n",
       "\n",
       "   comp_interno4  categoria1  categoria2  categoria3  \n",
       "0           58.0         2.0         9.0       156.0  \n",
       "1           45.0         1.0         4.0       173.0  \n",
       "2           45.0         1.0         9.0       170.0  \n",
       "3           59.0         3.0         3.0       159.0  \n",
       "4           67.0         2.0         9.0       146.0  "
      ]
     },
     "execution_count": 63,
     "metadata": {},
     "output_type": "execute_result"
    }
   ],
   "source": [
    "bd=\"base_ini_interna.csv\"\n",
    "bd_ini_interna = pd.read_csv(ruta+bd)\n",
    "bd_ini_interna.head()"
   ]
  },
  {
   "cell_type": "code",
   "execution_count": 26,
   "metadata": {},
   "outputs": [
    {
     "name": "stdout",
     "output_type": "stream",
     "text": [
      "<class 'pandas.core.frame.DataFrame'>\n",
      "RangeIndex: 50000 entries, 0 to 49999\n",
      "Data columns (total 9 columns):\n",
      " #   Column         Non-Null Count  Dtype  \n",
      "---  ------         --------------  -----  \n",
      " 0   _id_           50000 non-null  int64  \n",
      " 1   fecha_inicio   50000 non-null  object \n",
      " 2   comp_interno1  50000 non-null  float64\n",
      " 3   comp_interno2  50000 non-null  object \n",
      " 4   comp_interno3  50000 non-null  float64\n",
      " 5   comp_interno4  50000 non-null  float64\n",
      " 6   categoria1     50000 non-null  float64\n",
      " 7   categoria2     50000 non-null  float64\n",
      " 8   categoria3     50000 non-null  float64\n",
      "dtypes: float64(6), int64(1), object(2)\n",
      "memory usage: 3.4+ MB\n"
     ]
    }
   ],
   "source": [
    "bd_ini_interna.info()"
   ]
  },
  {
   "cell_type": "code",
   "execution_count": 27,
   "metadata": {},
   "outputs": [
    {
     "data": {
      "text/plain": [
       "50000"
      ]
     },
     "execution_count": 27,
     "metadata": {},
     "output_type": "execute_result"
    }
   ],
   "source": [
    "query =\"\"\"\n",
    "       select distinct(_id_) as id\n",
    "       from bd_ini_interna       \n",
    "       \"\"\"\n",
    "len(sqldf.run(query))"
   ]
  },
  {
   "cell_type": "code",
   "execution_count": 28,
   "metadata": {},
   "outputs": [
    {
     "data": {
      "text/html": [
       "<div>\n",
       "<style scoped>\n",
       "    .dataframe tbody tr th:only-of-type {\n",
       "        vertical-align: middle;\n",
       "    }\n",
       "\n",
       "    .dataframe tbody tr th {\n",
       "        vertical-align: top;\n",
       "    }\n",
       "\n",
       "    .dataframe thead th {\n",
       "        text-align: right;\n",
       "    }\n",
       "</style>\n",
       "<table border=\"1\" class=\"dataframe\">\n",
       "  <thead>\n",
       "    <tr style=\"text-align: right;\">\n",
       "      <th></th>\n",
       "      <th>_id_</th>\n",
       "      <th>_id2_</th>\n",
       "      <th>comp_mixto1</th>\n",
       "    </tr>\n",
       "  </thead>\n",
       "  <tbody>\n",
       "    <tr>\n",
       "      <th>0</th>\n",
       "      <td>78213</td>\n",
       "      <td>1798899</td>\n",
       "      <td>0.33522</td>\n",
       "    </tr>\n",
       "    <tr>\n",
       "      <th>1</th>\n",
       "      <td>76457</td>\n",
       "      <td>1758511</td>\n",
       "      <td>0.33334</td>\n",
       "    </tr>\n",
       "    <tr>\n",
       "      <th>2</th>\n",
       "      <td>40666</td>\n",
       "      <td>935318</td>\n",
       "      <td>0.29186</td>\n",
       "    </tr>\n",
       "    <tr>\n",
       "      <th>3</th>\n",
       "      <td>8329</td>\n",
       "      <td>191567</td>\n",
       "      <td>0.29112</td>\n",
       "    </tr>\n",
       "    <tr>\n",
       "      <th>4</th>\n",
       "      <td>68389</td>\n",
       "      <td>1572947</td>\n",
       "      <td>0.27318</td>\n",
       "    </tr>\n",
       "  </tbody>\n",
       "</table>\n",
       "</div>"
      ],
      "text/plain": [
       "    _id_    _id2_  comp_mixto1\n",
       "0  78213  1798899      0.33522\n",
       "1  76457  1758511      0.33334\n",
       "2  40666   935318      0.29186\n",
       "3   8329   191567      0.29112\n",
       "4  68389  1572947      0.27318"
      ]
     },
     "execution_count": 28,
     "metadata": {},
     "output_type": "execute_result"
    }
   ],
   "source": [
    "bd=\"base_ini_parte1.csv\"\n",
    "bd_ini_parte1 = pd.read_csv(ruta+bd)\n",
    "bd_ini_parte1.head()"
   ]
  },
  {
   "cell_type": "code",
   "execution_count": 29,
   "metadata": {},
   "outputs": [
    {
     "name": "stdout",
     "output_type": "stream",
     "text": [
      "<class 'pandas.core.frame.DataFrame'>\n",
      "RangeIndex: 50000 entries, 0 to 49999\n",
      "Data columns (total 3 columns):\n",
      " #   Column       Non-Null Count  Dtype  \n",
      "---  ------       --------------  -----  \n",
      " 0   _id_         50000 non-null  int64  \n",
      " 1   _id2_        50000 non-null  int64  \n",
      " 2   comp_mixto1  50000 non-null  float64\n",
      "dtypes: float64(1), int64(2)\n",
      "memory usage: 1.1 MB\n"
     ]
    }
   ],
   "source": [
    "bd_ini_parte1.info()"
   ]
  },
  {
   "cell_type": "code",
   "execution_count": 30,
   "metadata": {},
   "outputs": [
    {
     "data": {
      "text/html": [
       "<div>\n",
       "<style scoped>\n",
       "    .dataframe tbody tr th:only-of-type {\n",
       "        vertical-align: middle;\n",
       "    }\n",
       "\n",
       "    .dataframe tbody tr th {\n",
       "        vertical-align: top;\n",
       "    }\n",
       "\n",
       "    .dataframe thead th {\n",
       "        text-align: right;\n",
       "    }\n",
       "</style>\n",
       "<table border=\"1\" class=\"dataframe\">\n",
       "  <thead>\n",
       "    <tr style=\"text-align: right;\">\n",
       "      <th></th>\n",
       "      <th>num_caso</th>\n",
       "      <th>mes_informacion</th>\n",
       "      <th>Tiempo_aparicion</th>\n",
       "    </tr>\n",
       "  </thead>\n",
       "  <tbody>\n",
       "    <tr>\n",
       "      <th>1455531</th>\n",
       "      <td>98990</td>\n",
       "      <td>2021-05-01 00:00:00</td>\n",
       "      <td>1.0</td>\n",
       "    </tr>\n",
       "    <tr>\n",
       "      <th>1455532</th>\n",
       "      <td>98992</td>\n",
       "      <td>2021-04-01 00:00:00</td>\n",
       "      <td>0.0</td>\n",
       "    </tr>\n",
       "    <tr>\n",
       "      <th>1455533</th>\n",
       "      <td>98992</td>\n",
       "      <td>2021-05-01 00:00:00</td>\n",
       "      <td>1.0</td>\n",
       "    </tr>\n",
       "    <tr>\n",
       "      <th>1455534</th>\n",
       "      <td>98997</td>\n",
       "      <td>2021-04-01 00:00:00</td>\n",
       "      <td>0.0</td>\n",
       "    </tr>\n",
       "    <tr>\n",
       "      <th>1455535</th>\n",
       "      <td>98997</td>\n",
       "      <td>2021-05-01 00:00:00</td>\n",
       "      <td>1.0</td>\n",
       "    </tr>\n",
       "  </tbody>\n",
       "</table>\n",
       "</div>"
      ],
      "text/plain": [
       "         num_caso      mes_informacion  Tiempo_aparicion\n",
       "1455531     98990  2021-05-01 00:00:00               1.0\n",
       "1455532     98992  2021-04-01 00:00:00               0.0\n",
       "1455533     98992  2021-05-01 00:00:00               1.0\n",
       "1455534     98997  2021-04-01 00:00:00               0.0\n",
       "1455535     98997  2021-05-01 00:00:00               1.0"
      ]
     },
     "execution_count": 30,
     "metadata": {},
     "output_type": "execute_result"
    }
   ],
   "source": [
    "bd=\"base_comportamiento_2.txt\"\n",
    "bd_comportamiento_2 = pd.read_csv(ruta+bd,sep=\" \",low_memory=False)\n",
    "bd_comportamiento_2.tail()\n",
    "#categoria2, o 1 comportamiento de los clientes. "
   ]
  },
  {
   "cell_type": "code",
   "execution_count": 31,
   "metadata": {},
   "outputs": [
    {
     "name": "stdout",
     "output_type": "stream",
     "text": [
      "<class 'pandas.core.frame.DataFrame'>\n",
      "RangeIndex: 1455536 entries, 0 to 1455535\n",
      "Data columns (total 3 columns):\n",
      " #   Column            Non-Null Count    Dtype  \n",
      "---  ------            --------------    -----  \n",
      " 0   num_caso          1455536 non-null  int64  \n",
      " 1   mes_informacion   1455536 non-null  object \n",
      " 2   Tiempo_aparicion  1455536 non-null  float64\n",
      "dtypes: float64(1), int64(1), object(1)\n",
      "memory usage: 33.3+ MB\n"
     ]
    }
   ],
   "source": [
    "bd_comportamiento_2.info()"
   ]
  },
  {
   "cell_type": "code",
   "execution_count": 32,
   "metadata": {},
   "outputs": [
    {
     "data": {
      "text/plain": [
       "49352"
      ]
     },
     "execution_count": 32,
     "metadata": {},
     "output_type": "execute_result"
    }
   ],
   "source": [
    "query =\"\"\"\n",
    "       select distinct(num_caso) as id\n",
    "       from bd_comportamiento_2       \n",
    "       \"\"\"\n",
    "len(sqldf.run(query))"
   ]
  },
  {
   "cell_type": "markdown",
   "metadata": {},
   "source": [
    "Por ejemplo, esta base (bd_comportamiento_2) tiene un comportamiento peculiar. Parece ser que, en resumen, registra el tiempo desde que un caso (id) empieza un trámite. Sin embargo, existe una duda: ¿qué pasa si un caso inicia otro procedimiento en algún momento dado? ¿se vuelve a comenzar desde cero? La siguiente consulta está pensada para que nos dé esa información, además, en el proceso, se logra que sólo aparezcan los valores únicos de los números de casos:   "
   ]
  },
  {
   "cell_type": "code",
   "execution_count": 33,
   "metadata": {},
   "outputs": [
    {
     "data": {
      "text/html": [
       "<div>\n",
       "<style scoped>\n",
       "    .dataframe tbody tr th:only-of-type {\n",
       "        vertical-align: middle;\n",
       "    }\n",
       "\n",
       "    .dataframe tbody tr th {\n",
       "        vertical-align: top;\n",
       "    }\n",
       "\n",
       "    .dataframe thead th {\n",
       "        text-align: right;\n",
       "    }\n",
       "</style>\n",
       "<table border=\"1\" class=\"dataframe\">\n",
       "  <thead>\n",
       "    <tr style=\"text-align: right;\">\n",
       "      <th></th>\n",
       "      <th>num_caso</th>\n",
       "      <th>count(num_caso)</th>\n",
       "      <th>max(Tiempo_aparicion)</th>\n",
       "    </tr>\n",
       "  </thead>\n",
       "  <tbody>\n",
       "    <tr>\n",
       "      <th>0</th>\n",
       "      <td>1</td>\n",
       "      <td>62</td>\n",
       "      <td>61.0</td>\n",
       "    </tr>\n",
       "    <tr>\n",
       "      <th>1</th>\n",
       "      <td>7</td>\n",
       "      <td>29</td>\n",
       "      <td>28.0</td>\n",
       "    </tr>\n",
       "    <tr>\n",
       "      <th>2</th>\n",
       "      <td>8</td>\n",
       "      <td>63</td>\n",
       "      <td>51.0</td>\n",
       "    </tr>\n",
       "    <tr>\n",
       "      <th>3</th>\n",
       "      <td>9</td>\n",
       "      <td>15</td>\n",
       "      <td>14.0</td>\n",
       "    </tr>\n",
       "    <tr>\n",
       "      <th>4</th>\n",
       "      <td>10</td>\n",
       "      <td>16</td>\n",
       "      <td>15.0</td>\n",
       "    </tr>\n",
       "  </tbody>\n",
       "</table>\n",
       "</div>"
      ],
      "text/plain": [
       "   num_caso  count(num_caso)  max(Tiempo_aparicion)\n",
       "0         1               62                   61.0\n",
       "1         7               29                   28.0\n",
       "2         8               63                   51.0\n",
       "3         9               15                   14.0\n",
       "4        10               16                   15.0"
      ]
     },
     "execution_count": 33,
     "metadata": {},
     "output_type": "execute_result"
    }
   ],
   "source": [
    "query =\"\"\"\n",
    "       select num_caso,count(num_caso),max(Tiempo_aparicion) \n",
    "       from bd_comportamiento_2 group by num_caso       \n",
    "       \"\"\"\n",
    "sqldf.run(query).head()"
   ]
  },
  {
   "cell_type": "markdown",
   "metadata": {},
   "source": [
    "La consulta indica que el máximo registro del tiempo no siempre es lo mismo que la cantidad de registros que tiene un caso dado (salvo por un número que se agrega por el cero) que es lo que se esperaría. Esto es un indicativo de que , en efecto, la base puede iniciar el registro de un mismo caso más adelante en el tiempo. La siguiente consulta dice cuántas veces un caso inició un proceso:  "
   ]
  },
  {
   "cell_type": "code",
   "execution_count": 34,
   "metadata": {},
   "outputs": [
    {
     "data": {
      "text/html": [
       "<div>\n",
       "<style scoped>\n",
       "    .dataframe tbody tr th:only-of-type {\n",
       "        vertical-align: middle;\n",
       "    }\n",
       "\n",
       "    .dataframe tbody tr th {\n",
       "        vertical-align: top;\n",
       "    }\n",
       "\n",
       "    .dataframe thead th {\n",
       "        text-align: right;\n",
       "    }\n",
       "</style>\n",
       "<table border=\"1\" class=\"dataframe\">\n",
       "  <thead>\n",
       "    <tr style=\"text-align: right;\">\n",
       "      <th></th>\n",
       "      <th>num_caso</th>\n",
       "      <th>cantidad_tramites</th>\n",
       "    </tr>\n",
       "  </thead>\n",
       "  <tbody>\n",
       "    <tr>\n",
       "      <th>0</th>\n",
       "      <td>1</td>\n",
       "      <td>1</td>\n",
       "    </tr>\n",
       "    <tr>\n",
       "      <th>1</th>\n",
       "      <td>7</td>\n",
       "      <td>1</td>\n",
       "    </tr>\n",
       "    <tr>\n",
       "      <th>2</th>\n",
       "      <td>8</td>\n",
       "      <td>5</td>\n",
       "    </tr>\n",
       "    <tr>\n",
       "      <th>3</th>\n",
       "      <td>9</td>\n",
       "      <td>1</td>\n",
       "    </tr>\n",
       "    <tr>\n",
       "      <th>4</th>\n",
       "      <td>10</td>\n",
       "      <td>1</td>\n",
       "    </tr>\n",
       "    <tr>\n",
       "      <th>5</th>\n",
       "      <td>14</td>\n",
       "      <td>1</td>\n",
       "    </tr>\n",
       "    <tr>\n",
       "      <th>6</th>\n",
       "      <td>18</td>\n",
       "      <td>1</td>\n",
       "    </tr>\n",
       "    <tr>\n",
       "      <th>7</th>\n",
       "      <td>21</td>\n",
       "      <td>1</td>\n",
       "    </tr>\n",
       "    <tr>\n",
       "      <th>8</th>\n",
       "      <td>22</td>\n",
       "      <td>1</td>\n",
       "    </tr>\n",
       "    <tr>\n",
       "      <th>9</th>\n",
       "      <td>24</td>\n",
       "      <td>1</td>\n",
       "    </tr>\n",
       "    <tr>\n",
       "      <th>10</th>\n",
       "      <td>25</td>\n",
       "      <td>1</td>\n",
       "    </tr>\n",
       "    <tr>\n",
       "      <th>11</th>\n",
       "      <td>27</td>\n",
       "      <td>1</td>\n",
       "    </tr>\n",
       "    <tr>\n",
       "      <th>12</th>\n",
       "      <td>28</td>\n",
       "      <td>1</td>\n",
       "    </tr>\n",
       "    <tr>\n",
       "      <th>13</th>\n",
       "      <td>29</td>\n",
       "      <td>1</td>\n",
       "    </tr>\n",
       "    <tr>\n",
       "      <th>14</th>\n",
       "      <td>31</td>\n",
       "      <td>1</td>\n",
       "    </tr>\n",
       "    <tr>\n",
       "      <th>15</th>\n",
       "      <td>32</td>\n",
       "      <td>2</td>\n",
       "    </tr>\n",
       "    <tr>\n",
       "      <th>16</th>\n",
       "      <td>34</td>\n",
       "      <td>1</td>\n",
       "    </tr>\n",
       "    <tr>\n",
       "      <th>17</th>\n",
       "      <td>35</td>\n",
       "      <td>1</td>\n",
       "    </tr>\n",
       "    <tr>\n",
       "      <th>18</th>\n",
       "      <td>36</td>\n",
       "      <td>1</td>\n",
       "    </tr>\n",
       "    <tr>\n",
       "      <th>19</th>\n",
       "      <td>41</td>\n",
       "      <td>1</td>\n",
       "    </tr>\n",
       "  </tbody>\n",
       "</table>\n",
       "</div>"
      ],
      "text/plain": [
       "    num_caso  cantidad_tramites\n",
       "0          1                  1\n",
       "1          7                  1\n",
       "2          8                  5\n",
       "3          9                  1\n",
       "4         10                  1\n",
       "5         14                  1\n",
       "6         18                  1\n",
       "7         21                  1\n",
       "8         22                  1\n",
       "9         24                  1\n",
       "10        25                  1\n",
       "11        27                  1\n",
       "12        28                  1\n",
       "13        29                  1\n",
       "14        31                  1\n",
       "15        32                  2\n",
       "16        34                  1\n",
       "17        35                  1\n",
       "18        36                  1\n",
       "19        41                  1"
      ]
     },
     "execution_count": 34,
     "metadata": {},
     "output_type": "execute_result"
    }
   ],
   "source": [
    "query =\"\"\"\n",
    "       select num_caso,count(Tiempo_aparicion) as cantidad_tramites \n",
    "       from bd_comportamiento_2 where Tiempo_aparicion=0 group by num_caso,Tiempo_aparicion        \n",
    "       \"\"\"\n",
    "sqldf.run(query).head(20)"
   ]
  },
  {
   "cell_type": "code",
   "execution_count": 35,
   "metadata": {},
   "outputs": [
    {
     "data": {
      "text/html": [
       "<div>\n",
       "<style scoped>\n",
       "    .dataframe tbody tr th:only-of-type {\n",
       "        vertical-align: middle;\n",
       "    }\n",
       "\n",
       "    .dataframe tbody tr th {\n",
       "        vertical-align: top;\n",
       "    }\n",
       "\n",
       "    .dataframe thead th {\n",
       "        text-align: right;\n",
       "    }\n",
       "</style>\n",
       "<table border=\"1\" class=\"dataframe\">\n",
       "  <thead>\n",
       "    <tr style=\"text-align: right;\">\n",
       "      <th></th>\n",
       "      <th>num_caso</th>\n",
       "      <th>mes_informacion</th>\n",
       "      <th>comportamiento_j</th>\n",
       "    </tr>\n",
       "  </thead>\n",
       "  <tbody>\n",
       "    <tr>\n",
       "      <th>0</th>\n",
       "      <td>1</td>\n",
       "      <td>2016-04-01 00:00:00</td>\n",
       "      <td>0.0</td>\n",
       "    </tr>\n",
       "    <tr>\n",
       "      <th>1</th>\n",
       "      <td>1</td>\n",
       "      <td>2016-05-01 00:00:00</td>\n",
       "      <td>0.0</td>\n",
       "    </tr>\n",
       "    <tr>\n",
       "      <th>2</th>\n",
       "      <td>1</td>\n",
       "      <td>2016-06-01 00:00:00</td>\n",
       "      <td>0.0</td>\n",
       "    </tr>\n",
       "    <tr>\n",
       "      <th>3</th>\n",
       "      <td>1</td>\n",
       "      <td>2016-07-01 00:00:00</td>\n",
       "      <td>0.0</td>\n",
       "    </tr>\n",
       "    <tr>\n",
       "      <th>4</th>\n",
       "      <td>1</td>\n",
       "      <td>2016-08-01 00:00:00</td>\n",
       "      <td>0.0</td>\n",
       "    </tr>\n",
       "  </tbody>\n",
       "</table>\n",
       "</div>"
      ],
      "text/plain": [
       "   num_caso      mes_informacion  comportamiento_j\n",
       "0         1  2016-04-01 00:00:00               0.0\n",
       "1         1  2016-05-01 00:00:00               0.0\n",
       "2         1  2016-06-01 00:00:00               0.0\n",
       "3         1  2016-07-01 00:00:00               0.0\n",
       "4         1  2016-08-01 00:00:00               0.0"
      ]
     },
     "execution_count": 35,
     "metadata": {},
     "output_type": "execute_result"
    }
   ],
   "source": [
    "bd=\"base_comportamiento_3.csv\"\n",
    "bd_comportamiento_3 = pd.read_csv(ruta+bd,low_memory=False)\n",
    "bd_comportamiento_3.head()"
   ]
  },
  {
   "cell_type": "code",
   "execution_count": 36,
   "metadata": {},
   "outputs": [
    {
     "name": "stdout",
     "output_type": "stream",
     "text": [
      "<class 'pandas.core.frame.DataFrame'>\n",
      "RangeIndex: 1455536 entries, 0 to 1455535\n",
      "Data columns (total 3 columns):\n",
      " #   Column            Non-Null Count    Dtype  \n",
      "---  ------            --------------    -----  \n",
      " 0   num_caso          1455536 non-null  int64  \n",
      " 1   mes_informacion   1455536 non-null  object \n",
      " 2   comportamiento_j  1455536 non-null  float64\n",
      "dtypes: float64(1), int64(1), object(1)\n",
      "memory usage: 33.3+ MB\n"
     ]
    }
   ],
   "source": [
    "bd_comportamiento_3.info()"
   ]
  },
  {
   "cell_type": "code",
   "execution_count": 37,
   "metadata": {},
   "outputs": [
    {
     "data": {
      "text/plain": [
       "49352"
      ]
     },
     "execution_count": 37,
     "metadata": {},
     "output_type": "execute_result"
    }
   ],
   "source": [
    "query =\"\"\"\n",
    "       select distinct(num_caso) as id\n",
    "       from bd_comportamiento_3      \n",
    "       \"\"\"\n",
    "len(sqldf.run(query))"
   ]
  },
  {
   "cell_type": "code",
   "execution_count": 38,
   "metadata": {},
   "outputs": [
    {
     "data": {
      "text/html": [
       "<div>\n",
       "<style scoped>\n",
       "    .dataframe tbody tr th:only-of-type {\n",
       "        vertical-align: middle;\n",
       "    }\n",
       "\n",
       "    .dataframe tbody tr th {\n",
       "        vertical-align: top;\n",
       "    }\n",
       "\n",
       "    .dataframe thead th {\n",
       "        text-align: right;\n",
       "    }\n",
       "</style>\n",
       "<table border=\"1\" class=\"dataframe\">\n",
       "  <thead>\n",
       "    <tr style=\"text-align: right;\">\n",
       "      <th></th>\n",
       "      <th>_id2_</th>\n",
       "      <th>inversion</th>\n",
       "    </tr>\n",
       "  </thead>\n",
       "  <tbody>\n",
       "    <tr>\n",
       "      <th>0</th>\n",
       "      <td>1758511</td>\n",
       "      <td>0.041039</td>\n",
       "    </tr>\n",
       "    <tr>\n",
       "      <th>1</th>\n",
       "      <td>1572947</td>\n",
       "      <td>77.422135</td>\n",
       "    </tr>\n",
       "    <tr>\n",
       "      <th>2</th>\n",
       "      <td>1051836</td>\n",
       "      <td>90.539953</td>\n",
       "    </tr>\n",
       "    <tr>\n",
       "      <th>3</th>\n",
       "      <td>1223255</td>\n",
       "      <td>90.205018</td>\n",
       "    </tr>\n",
       "    <tr>\n",
       "      <th>4</th>\n",
       "      <td>1894602</td>\n",
       "      <td>1.071354</td>\n",
       "    </tr>\n",
       "  </tbody>\n",
       "</table>\n",
       "</div>"
      ],
      "text/plain": [
       "     _id2_  inversion\n",
       "0  1758511   0.041039\n",
       "1  1572947  77.422135\n",
       "2  1051836  90.539953\n",
       "3  1223255  90.205018\n",
       "4  1894602   1.071354"
      ]
     },
     "execution_count": 38,
     "metadata": {},
     "output_type": "execute_result"
    }
   ],
   "source": [
    "bd=\"base_inversion.txt\"\n",
    "bd_base_inversion= pd.read_csv(ruta+bd,sep=\" \")\n",
    "bd_base_inversion.head()"
   ]
  },
  {
   "cell_type": "code",
   "execution_count": 39,
   "metadata": {},
   "outputs": [
    {
     "name": "stdout",
     "output_type": "stream",
     "text": [
      "<class 'pandas.core.frame.DataFrame'>\n",
      "RangeIndex: 17536 entries, 0 to 17535\n",
      "Data columns (total 2 columns):\n",
      " #   Column     Non-Null Count  Dtype  \n",
      "---  ------     --------------  -----  \n",
      " 0   _id2_      17536 non-null  int64  \n",
      " 1   inversion  17536 non-null  float64\n",
      "dtypes: float64(1), int64(1)\n",
      "memory usage: 274.1 KB\n"
     ]
    }
   ],
   "source": [
    "bd_base_inversion.info()"
   ]
  },
  {
   "cell_type": "code",
   "execution_count": 40,
   "metadata": {},
   "outputs": [
    {
     "data": {
      "text/plain": [
       "17536"
      ]
     },
     "execution_count": 40,
     "metadata": {},
     "output_type": "execute_result"
    }
   ],
   "source": [
    "query =\"\"\"\n",
    "       select distinct(_id2_)\n",
    "       from bd_base_inversion      \n",
    "       \"\"\"\n",
    "len(sqldf.run(query))"
   ]
  },
  {
   "cell_type": "code",
   "execution_count": 44,
   "metadata": {},
   "outputs": [
    {
     "data": {
      "text/html": [
       "<div>\n",
       "<style scoped>\n",
       "    .dataframe tbody tr th:only-of-type {\n",
       "        vertical-align: middle;\n",
       "    }\n",
       "\n",
       "    .dataframe tbody tr th {\n",
       "        vertical-align: top;\n",
       "    }\n",
       "\n",
       "    .dataframe thead th {\n",
       "        text-align: right;\n",
       "    }\n",
       "</style>\n",
       "<table border=\"1\" class=\"dataframe\">\n",
       "  <thead>\n",
       "    <tr style=\"text-align: right;\">\n",
       "      <th></th>\n",
       "      <th>_id_</th>\n",
       "      <th>_id2_</th>\n",
       "      <th>comp_mixto1</th>\n",
       "    </tr>\n",
       "  </thead>\n",
       "  <tbody>\n",
       "    <tr>\n",
       "      <th>0</th>\n",
       "      <td>78213</td>\n",
       "      <td>1798899</td>\n",
       "      <td>0.33522</td>\n",
       "    </tr>\n",
       "    <tr>\n",
       "      <th>1</th>\n",
       "      <td>76457</td>\n",
       "      <td>1758511</td>\n",
       "      <td>0.33334</td>\n",
       "    </tr>\n",
       "    <tr>\n",
       "      <th>2</th>\n",
       "      <td>40666</td>\n",
       "      <td>935318</td>\n",
       "      <td>0.29186</td>\n",
       "    </tr>\n",
       "    <tr>\n",
       "      <th>3</th>\n",
       "      <td>8329</td>\n",
       "      <td>191567</td>\n",
       "      <td>0.29112</td>\n",
       "    </tr>\n",
       "    <tr>\n",
       "      <th>4</th>\n",
       "      <td>68389</td>\n",
       "      <td>1572947</td>\n",
       "      <td>0.27318</td>\n",
       "    </tr>\n",
       "  </tbody>\n",
       "</table>\n",
       "</div>"
      ],
      "text/plain": [
       "    _id_    _id2_  comp_mixto1\n",
       "0  78213  1798899      0.33522\n",
       "1  76457  1758511      0.33334\n",
       "2  40666   935318      0.29186\n",
       "3   8329   191567      0.29112\n",
       "4  68389  1572947      0.27318"
      ]
     },
     "execution_count": 44,
     "metadata": {},
     "output_type": "execute_result"
    }
   ],
   "source": [
    "bd=\"base_ini_parte1.csv\"\n",
    "bd_ini_parte1= pd.read_csv(ruta+bd)\n",
    "bd_ini_parte1.head()"
   ]
  },
  {
   "cell_type": "code",
   "execution_count": 45,
   "metadata": {},
   "outputs": [
    {
     "name": "stdout",
     "output_type": "stream",
     "text": [
      "<class 'pandas.core.frame.DataFrame'>\n",
      "RangeIndex: 50000 entries, 0 to 49999\n",
      "Data columns (total 3 columns):\n",
      " #   Column       Non-Null Count  Dtype  \n",
      "---  ------       --------------  -----  \n",
      " 0   _id_         50000 non-null  int64  \n",
      " 1   _id2_        50000 non-null  int64  \n",
      " 2   comp_mixto1  50000 non-null  float64\n",
      "dtypes: float64(1), int64(2)\n",
      "memory usage: 1.1 MB\n"
     ]
    }
   ],
   "source": [
    "bd_ini_parte1.info()"
   ]
  },
  {
   "cell_type": "code",
   "execution_count": 47,
   "metadata": {},
   "outputs": [
    {
     "data": {
      "text/plain": [
       "50000"
      ]
     },
     "execution_count": 47,
     "metadata": {},
     "output_type": "execute_result"
    }
   ],
   "source": [
    "query =\"\"\"\n",
    "       select distinct(_id_) as id\n",
    "       from bd_ini_parte1      \n",
    "       \"\"\"\n",
    "len(sqldf.run(query))"
   ]
  },
  {
   "cell_type": "code",
   "execution_count": 48,
   "metadata": {},
   "outputs": [
    {
     "data": {
      "text/plain": [
       "50000"
      ]
     },
     "execution_count": 48,
     "metadata": {},
     "output_type": "execute_result"
    }
   ],
   "source": [
    "query =\"\"\"\n",
    "       select distinct(_id2_) as id\n",
    "       from bd_ini_parte1      \n",
    "       \"\"\"\n",
    "len(sqldf.run(query))"
   ]
  },
  {
   "cell_type": "code",
   "execution_count": null,
   "metadata": {},
   "outputs": [],
   "source": [
    "#EJERCICIO 2\n",
    "#De la base data_schools obtener el error estándar con Bootstrap de las variables de la base. \n",
    "#Recordemos que tienen que simular N Muestras Boostrap con tamño n. Luego, el otro ejercicio es que lo hagan con n-1.\n",
    "#Grafique los histogramas de las correlaciones\n",
    "#Grafique el  histograma pero sobre una muestra bostrap considerando la muestra completa"
   ]
  },
  {
   "cell_type": "code",
   "execution_count": 3,
   "metadata": {},
   "outputs": [
    {
     "data": {
      "text/html": [
       "<div>\n",
       "<style scoped>\n",
       "    .dataframe tbody tr th:only-of-type {\n",
       "        vertical-align: middle;\n",
       "    }\n",
       "\n",
       "    .dataframe tbody tr th {\n",
       "        vertical-align: top;\n",
       "    }\n",
       "\n",
       "    .dataframe thead th {\n",
       "        text-align: right;\n",
       "    }\n",
       "</style>\n",
       "<table border=\"1\" class=\"dataframe\">\n",
       "  <thead>\n",
       "    <tr style=\"text-align: right;\">\n",
       "      <th></th>\n",
       "      <th>escuela</th>\n",
       "      <th>LSAT</th>\n",
       "      <th>GPA</th>\n",
       "    </tr>\n",
       "  </thead>\n",
       "  <tbody>\n",
       "    <tr>\n",
       "      <th>0</th>\n",
       "      <td>1</td>\n",
       "      <td>622</td>\n",
       "      <td>3.23</td>\n",
       "    </tr>\n",
       "    <tr>\n",
       "      <th>1</th>\n",
       "      <td>2</td>\n",
       "      <td>542</td>\n",
       "      <td>2.83</td>\n",
       "    </tr>\n",
       "    <tr>\n",
       "      <th>2</th>\n",
       "      <td>3</td>\n",
       "      <td>579</td>\n",
       "      <td>3.24</td>\n",
       "    </tr>\n",
       "    <tr>\n",
       "      <th>3</th>\n",
       "      <td>4</td>\n",
       "      <td>653</td>\n",
       "      <td>3.12</td>\n",
       "    </tr>\n",
       "    <tr>\n",
       "      <th>4</th>\n",
       "      <td>5</td>\n",
       "      <td>606</td>\n",
       "      <td>3.09</td>\n",
       "    </tr>\n",
       "    <tr>\n",
       "      <th>5</th>\n",
       "      <td>6</td>\n",
       "      <td>576</td>\n",
       "      <td>3.39</td>\n",
       "    </tr>\n",
       "    <tr>\n",
       "      <th>6</th>\n",
       "      <td>7</td>\n",
       "      <td>620</td>\n",
       "      <td>3.10</td>\n",
       "    </tr>\n",
       "    <tr>\n",
       "      <th>7</th>\n",
       "      <td>8</td>\n",
       "      <td>615</td>\n",
       "      <td>3.40</td>\n",
       "    </tr>\n",
       "    <tr>\n",
       "      <th>8</th>\n",
       "      <td>9</td>\n",
       "      <td>553</td>\n",
       "      <td>2.97</td>\n",
       "    </tr>\n",
       "    <tr>\n",
       "      <th>9</th>\n",
       "      <td>10</td>\n",
       "      <td>607</td>\n",
       "      <td>2.91</td>\n",
       "    </tr>\n",
       "  </tbody>\n",
       "</table>\n",
       "</div>"
      ],
      "text/plain": [
       "   escuela  LSAT   GPA\n",
       "0        1   622  3.23\n",
       "1        2   542  2.83\n",
       "2        3   579  3.24\n",
       "3        4   653  3.12\n",
       "4        5   606  3.09\n",
       "5        6   576  3.39\n",
       "6        7   620  3.10\n",
       "7        8   615  3.40\n",
       "8        9   553  2.97\n",
       "9       10   607  2.91"
      ]
     },
     "execution_count": 3,
     "metadata": {},
     "output_type": "execute_result"
    }
   ],
   "source": [
    "ruta=\"C:\\\\Users\\\\vicky\\\\Documents\\\\1 Seminario Est\\\\fase1\\\\Tarea 1 rep\\\\HomeWork1_ML\\\\data\\\\\"\n",
    "bd=\"data_schools.xlsx\"\n",
    "bd_escuelas=pd.read_excel(ruta+bd)\n",
    "bd_escuelas.head(10)"
   ]
  },
  {
   "cell_type": "code",
   "execution_count": 5,
   "metadata": {},
   "outputs": [
    {
     "name": "stdout",
     "output_type": "stream",
     "text": [
      "    escuela  LSAT   GPA  f_seleccion\n",
      "37       38   606  3.20            1\n",
      "51       52   580  3.07            1\n",
      "75       76   608  3.16            1\n",
      "5         6   576  3.39            1\n",
      "73       74   565  3.15            1\n",
      "21       22   614  3.19            1\n",
      "57       58   631  3.21            1\n",
      "10       11   558  3.11            1\n",
      "35       36   572  2.88            1\n",
      "39       40   535  2.98            1\n",
      "47       48   562  3.19            1\n",
      "68       69   598  3.20            1\n",
      "61       62   637  3.33            1\n",
      "76       77   595  3.19            1\n",
      "36       37   615  3.37            1\n"
     ]
    }
   ],
   "source": [
    "#Seleccionamos aleatoriamente 15 escuelas\n",
    "escuelas_random=bd_escuelas.sample(n=15,random_state=9998)#[[\"escuela\"]]\n",
    "escuelas_random[\"f_seleccion\"]=1\n",
    "print(escuelas_random)"
   ]
  },
  {
   "cell_type": "code",
   "execution_count": 6,
   "metadata": {},
   "outputs": [
    {
     "name": "stdout",
     "output_type": "stream",
     "text": [
      "Spearmans correlation: 0.648\n"
     ]
    }
   ],
   "source": [
    "corr, _ = spearmanr(escuelas_random.LSAT, escuelas_random.GPA)\n",
    "print('Spearmans correlation: %.3f' % corr)"
   ]
  },
  {
   "cell_type": "code",
   "execution_count": 30,
   "metadata": {},
   "outputs": [
    {
     "name": "stdout",
     "output_type": "stream",
     "text": [
      "Spearmans correlation: 0.753\n"
     ]
    }
   ],
   "source": [
    "corr1, _ = spearmanr(bd_escuelas.LSAT, bd_escuelas.GPA)\n",
    "print('Spearmans correlation: %.3f' % corr)"
   ]
  },
  {
   "cell_type": "code",
   "execution_count": 10,
   "metadata": {},
   "outputs": [
    {
     "data": {
      "text/plain": [
       "array([622, 542, 579, 653, 606, 576, 620, 615, 553, 607, 558, 596, 635,\n",
       "       581, 661, 547, 599, 646, 622, 611, 546, 614, 628, 575, 662, 627,\n",
       "       608, 632, 587, 581, 605, 704, 477, 591, 578, 572, 615, 606, 603,\n",
       "       535, 595, 575, 573, 644, 545, 645, 651, 562, 609, 555, 586, 580,\n",
       "       594, 594, 560, 641, 512, 631, 597, 621, 617, 637, 572, 610, 562,\n",
       "       635, 614, 546, 598, 666, 570, 570, 605, 565, 686, 608, 595, 590,\n",
       "       558, 611, 564, 575], dtype=int64)"
      ]
     },
     "execution_count": 10,
     "metadata": {},
     "output_type": "execute_result"
    }
   ],
   "source": [
    "X = bd_escuelas[[\"LSAT\"]]\n",
    "x=X.to_numpy().reshape(-1)\n",
    "x"
   ]
  },
  {
   "cell_type": "code",
   "execution_count": 18,
   "metadata": {},
   "outputs": [
    {
     "data": {
      "text/plain": [
       "597.5487804878048"
      ]
     },
     "execution_count": 18,
     "metadata": {},
     "output_type": "execute_result"
    }
   ],
   "source": [
    "desEst=np.std(x)\n",
    "(desEst)\n",
    "np.mean(x)"
   ]
  },
  {
   "cell_type": "code",
   "execution_count": 40,
   "metadata": {},
   "outputs": [],
   "source": [
    "#Nostoros queremos hacer este remuestro muchas veces y saber las correlaciones\n",
    "simul=1000\n",
    "cor_boost= np.array( [ ])\n",
    "for i in range(0,simul):\n",
    "    escuelas_random=bd_escuelas.sample(n=15)\n",
    "    corr, _ = spearmanr(escuelas_random.LSAT, escuelas_random.GPA)\n",
    "    cor_boost = np.append(cor_boost,corr)"
   ]
  },
  {
   "cell_type": "code",
   "execution_count": 41,
   "metadata": {},
   "outputs": [
    {
     "data": {
      "text/plain": [
       "0.7273851096178298"
      ]
     },
     "execution_count": 41,
     "metadata": {},
     "output_type": "execute_result"
    }
   ],
   "source": [
    "#Este es el promedio de las correlaciones\n",
    "np.mean(cor_boost)"
   ]
  },
  {
   "cell_type": "code",
   "execution_count": 42,
   "metadata": {},
   "outputs": [
    {
     "data": {
      "text/plain": [
       "0.13458607157969782"
      ]
     },
     "execution_count": 42,
     "metadata": {},
     "output_type": "execute_result"
    }
   ],
   "source": [
    "np.std(cor_boost)"
   ]
  },
  {
   "cell_type": "code",
   "execution_count": 36,
   "metadata": {},
   "outputs": [
    {
     "data": {
      "image/png": "[encoded data removed]",
      "text/plain": [
       "<Figure size 648x432 with 1 Axes>"
      ]
     },
     "metadata": {
      "needs_background": "light"
     },
     "output_type": "display_data"
    },
    {
     "name": "stdout",
     "output_type": "stream",
     "text": [
      "Correlacion sin Bootsrap: 0.7526621356232132\n",
      "Promedio de la Correlacion de las muestras Bootstrap: 0.7223765396918439\n",
      "( 0.40355379959414783 , 0.9167416386382433 )\n"
     ]
    }
   ],
   "source": [
    "#Obtengamos el Histograma de los correlaciones de las n muestras bootstrap\n",
    "fig, ax = plt.subplots(figsize=(9,6))\n",
    "hist(cor_boost,bins=50,alpha=0.5,edgecolor=\"white\",label=\"Error estándar Boostrap\")\n",
    "axvline(x=corr1,color='green', linestyle='--',linewidth=3,label=\"Error Estándar de b_1 con regresión$\")\n",
    "axvline(x=np.mean(cor_boost),color='black', linestyle='--',linewidth=3,label=\"Promedio error estándar de b_1 con  Boostrap$\")\n",
    "\n",
    "axvline(percentile(cor_boost,2.5),color=\"blue\",linestyle=\"--\",linewidth=2)                                                                                                                                                    \n",
    "axvline(percentile(cor_boost,97.5),color=\"blue\",linestyle=\"--\",linewidth=2) \n",
    "show()\n",
    "print(\"Correlacion sin Bootsrap:\", corr1)\n",
    "print(\"Promedio de la Correlacion de las muestras Bootstrap:\", np.mean(cor_boost))\n",
    "print(\"(\", percentile(cor_boost,2.5),\",\",percentile(cor_boost,97.5),\")\")"
   ]
  },
  {
   "cell_type": "code",
   "execution_count": null,
   "metadata": {},
   "outputs": [],
   "source": [
    "#El otro ejercicio que es con n-1"
   ]
  },
  {
   "cell_type": "code",
   "execution_count": 38,
   "metadata": {},
   "outputs": [],
   "source": [
    "simul=1000\n",
    "cor_boost2= np.array( [ ])\n",
    "for i in range(0,simul):\n",
    "    escuelas_random=bd_escuelas.sample(n=15)\n",
    "    muestra_muestra=escuelas_random.sample(n=14)\n",
    "    corr, _ = spearmanr(muestra_muestra.LSAT, muestra_muestra.GPA)\n",
    "    cor_boost2 = np.append(cor_boost2,corr)"
   ]
  },
  {
   "cell_type": "code",
   "execution_count": 39,
   "metadata": {},
   "outputs": [
    {
     "data": {
      "text/plain": [
       "0.7272572807815286"
      ]
     },
     "execution_count": 39,
     "metadata": {},
     "output_type": "execute_result"
    }
   ],
   "source": [
    "np.mean(cor_boost2)"
   ]
  },
  {
   "cell_type": "code",
   "execution_count": 44,
   "metadata": {},
   "outputs": [
    {
     "data": {
      "image/png": "[encoded data removed]",
      "text/plain": [
       "<Figure size 648x432 with 1 Axes>"
      ]
     },
     "metadata": {
      "needs_background": "light"
     },
     "output_type": "display_data"
    },
    {
     "name": "stdout",
     "output_type": "stream",
     "text": [
      "Correlacion sin Bootsrap: 0.7526621356232132\n",
      "Promedio de la Correlacion de las muestras Bootstrap: 0.7272572807815286\n",
      "( 0.38752237480521234 , 0.9165087361806527 )\n"
     ]
    }
   ],
   "source": [
    "#Obtengamos el Histograma de los correlaciones de las n muestras bootstrap\n",
    "fig, ax = plt.subplots(figsize=(9,6))\n",
    "hist(cor_boost2,bins=50,alpha=0.5,edgecolor=\"white\",label=\"Error estándar Boostrap\")\n",
    "axvline(x=corr1,color='green', linestyle='--',linewidth=3,label=\"Error Estándar de b_1 con regresión$\")\n",
    "axvline(x=np.mean(cor_boost),color='black', linestyle='--',linewidth=3,label=\"Promedio error estándar de b_1 con  Boostrap$\")\n",
    "\n",
    "axvline(percentile(cor_boost2,2.5),color=\"blue\",linestyle=\"--\",linewidth=2)                                                                                                                                                    \n",
    "axvline(percentile(cor_boost2,97.5),color=\"blue\",linestyle=\"--\",linewidth=2) \n",
    "show()\n",
    "print(\"Correlacion sin Bootsrap:\", corr1)\n",
    "print(\"Promedio de la Correlacion de las muestras Bootstrap:\", np.mean(cor_boost2))\n",
    "print(\"(\", percentile(cor_boost2,2.5),\",\",percentile(cor_boost2,97.5),\")\")"
   ]
  },
  {
   "cell_type": "code",
   "execution_count": null,
   "metadata": {},
   "outputs": [],
   "source": [
    "#Ahora con una muestra de tamaño n igual al tamaño del numero de escuelas"
   ]
  },
  {
   "cell_type": "code",
   "execution_count": 49,
   "metadata": {},
   "outputs": [],
   "source": [
    "simul=1000\n",
    "cor_boost3= np.array( [ ])\n",
    "for i in range(0,simul):\n",
    "    escuelas_random=bd_escuelas.sample(n=len(bd_escuelas),replace= True)\n",
    "    corr, _ = spearmanr(escuelas_random.LSAT, escuelas_random.GPA)\n",
    "    cor_boost3 = np.append(cor_boost3,corr)"
   ]
  },
  {
   "cell_type": "code",
   "execution_count": 48,
   "metadata": {},
   "outputs": [
    {
     "data": {
      "text/plain": [
       "0.747358955469834"
      ]
     },
     "execution_count": 48,
     "metadata": {},
     "output_type": "execute_result"
    }
   ],
   "source": [
    "np.mean(cor_boost3)"
   ]
  },
  {
   "cell_type": "code",
   "execution_count": 51,
   "metadata": {},
   "outputs": [
    {
     "data": {
      "image/png": "[encoded data removed]",
      "text/plain": [
       "<Figure size 648x432 with 1 Axes>"
      ]
     },
     "metadata": {
      "needs_background": "light"
     },
     "output_type": "display_data"
    },
    {
     "name": "stdout",
     "output_type": "stream",
     "text": [
      "Correlacion sin Bootsrap: 0.7526621356232132\n",
      "Promedio de la Correlacion de las muestras Bootstrap: 0.7477050803438233\n",
      "( 0.62637091068588 , 0.8422769889746223 )\n"
     ]
    }
   ],
   "source": [
    "#Obtengamos el Histograma de los correlaciones de las n muestras bootstrap\n",
    "fig, ax = plt.subplots(figsize=(9,6))\n",
    "hist(cor_boost3,bins=50,alpha=0.5,edgecolor=\"white\",label=\"Error estándar Boostrap\")\n",
    "axvline(x=corr1,color='green', linestyle='--',linewidth=3,label=\"Error Estándar de b_1 con regresión$\")\n",
    "axvline(x=np.mean(cor_boost3),color='black', linestyle='--',linewidth=3,label=\"Promedio error estándar de b_1 con  Boostrap$\")\n",
    "\n",
    "axvline(percentile(cor_boost3,2.5),color=\"blue\",linestyle=\"--\",linewidth=2)                                                                                                                                                    \n",
    "axvline(percentile(cor_boost3,97.5),color=\"blue\",linestyle=\"--\",linewidth=2) \n",
    "show()\n",
    "print(\"Correlacion sin Bootsrap:\", corr1)\n",
    "print(\"Promedio de la Correlacion de las muestras Bootstrap:\", np.mean(cor_boost3))\n",
    "print(\"(\", percentile(cor_boost3,2.5),\",\",percentile(cor_boost3,97.5),\")\")"
   ]
  },
  {
   "cell_type": "code",
   "execution_count": null,
   "metadata": {},
   "outputs": [],
   "source": []
  }
 ],
 "metadata": {
  "kernelspec": {
   "display_name": "Python 3",
   "language": "python",
   "name": "python3"
  },
  "language_info": {
   "codemirror_mode": {
    "name": "ipython",
    "version": 3
   },
   "file_extension": ".py",
   "mimetype": "text/x-python",
   "name": "python",
   "nbconvert_exporter": "python",
   "pygments_lexer": "ipython3",
   "version": "3.8.5"
  }
 },
 "nbformat": 4,
 "nbformat_minor": 5
}
