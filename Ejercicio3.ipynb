{
 "cells": [
  {
   "cell_type": "code",
   "execution_count": 5,
   "metadata": {},
   "outputs": [],
   "source": [
    "from pylab import*\n",
    "import numpy as np\n",
    "import scipy.stats \n",
    "from scipy.special import gamma\n",
    "import seaborn as sns\n",
    "from scipy.stats import beta\n",
    "from scipy.stats import spearmanr\n",
    "import pandas as pd\n",
    "from sklearn import linear_model"
   ]
  },
  {
   "cell_type": "code",
   "execution_count": 4,
   "metadata": {},
   "outputs": [
    {
     "data": {
      "text/html": [
       "<div>\n",
       "<style scoped>\n",
       "    .dataframe tbody tr th:only-of-type {\n",
       "        vertical-align: middle;\n",
       "    }\n",
       "\n",
       "    .dataframe tbody tr th {\n",
       "        vertical-align: top;\n",
       "    }\n",
       "\n",
       "    .dataframe thead th {\n",
       "        text-align: right;\n",
       "    }\n",
       "</style>\n",
       "<table border=\"1\" class=\"dataframe\">\n",
       "  <thead>\n",
       "    <tr style=\"text-align: right;\">\n",
       "      <th></th>\n",
       "      <th>lote</th>\n",
       "      <th>horas</th>\n",
       "      <th>monto</th>\n",
       "    </tr>\n",
       "  </thead>\n",
       "  <tbody>\n",
       "    <tr>\n",
       "      <th>0</th>\n",
       "      <td>A</td>\n",
       "      <td>99</td>\n",
       "      <td>25.8</td>\n",
       "    </tr>\n",
       "    <tr>\n",
       "      <th>1</th>\n",
       "      <td>A</td>\n",
       "      <td>152</td>\n",
       "      <td>20.5</td>\n",
       "    </tr>\n",
       "    <tr>\n",
       "      <th>2</th>\n",
       "      <td>A</td>\n",
       "      <td>293</td>\n",
       "      <td>14.3</td>\n",
       "    </tr>\n",
       "    <tr>\n",
       "      <th>3</th>\n",
       "      <td>A</td>\n",
       "      <td>155</td>\n",
       "      <td>23.2</td>\n",
       "    </tr>\n",
       "    <tr>\n",
       "      <th>4</th>\n",
       "      <td>A</td>\n",
       "      <td>196</td>\n",
       "      <td>20.6</td>\n",
       "    </tr>\n",
       "    <tr>\n",
       "      <th>5</th>\n",
       "      <td>A</td>\n",
       "      <td>53</td>\n",
       "      <td>31.1</td>\n",
       "    </tr>\n",
       "    <tr>\n",
       "      <th>6</th>\n",
       "      <td>A</td>\n",
       "      <td>184</td>\n",
       "      <td>20.9</td>\n",
       "    </tr>\n",
       "    <tr>\n",
       "      <th>7</th>\n",
       "      <td>A</td>\n",
       "      <td>171</td>\n",
       "      <td>20.9</td>\n",
       "    </tr>\n",
       "    <tr>\n",
       "      <th>8</th>\n",
       "      <td>A</td>\n",
       "      <td>52</td>\n",
       "      <td>30.4</td>\n",
       "    </tr>\n",
       "    <tr>\n",
       "      <th>9</th>\n",
       "      <td>B</td>\n",
       "      <td>376</td>\n",
       "      <td>16.3</td>\n",
       "    </tr>\n",
       "    <tr>\n",
       "      <th>10</th>\n",
       "      <td>B</td>\n",
       "      <td>385</td>\n",
       "      <td>11.6</td>\n",
       "    </tr>\n",
       "    <tr>\n",
       "      <th>11</th>\n",
       "      <td>B</td>\n",
       "      <td>402</td>\n",
       "      <td>11.8</td>\n",
       "    </tr>\n",
       "    <tr>\n",
       "      <th>12</th>\n",
       "      <td>B</td>\n",
       "      <td>29</td>\n",
       "      <td>32.5</td>\n",
       "    </tr>\n",
       "    <tr>\n",
       "      <th>13</th>\n",
       "      <td>B</td>\n",
       "      <td>76</td>\n",
       "      <td>32.0</td>\n",
       "    </tr>\n",
       "    <tr>\n",
       "      <th>14</th>\n",
       "      <td>B</td>\n",
       "      <td>296</td>\n",
       "      <td>18.0</td>\n",
       "    </tr>\n",
       "    <tr>\n",
       "      <th>15</th>\n",
       "      <td>B</td>\n",
       "      <td>151</td>\n",
       "      <td>24.1</td>\n",
       "    </tr>\n",
       "    <tr>\n",
       "      <th>16</th>\n",
       "      <td>B</td>\n",
       "      <td>177</td>\n",
       "      <td>26.5</td>\n",
       "    </tr>\n",
       "    <tr>\n",
       "      <th>17</th>\n",
       "      <td>B</td>\n",
       "      <td>209</td>\n",
       "      <td>25.8</td>\n",
       "    </tr>\n",
       "    <tr>\n",
       "      <th>18</th>\n",
       "      <td>C</td>\n",
       "      <td>119</td>\n",
       "      <td>28.8</td>\n",
       "    </tr>\n",
       "    <tr>\n",
       "      <th>19</th>\n",
       "      <td>C</td>\n",
       "      <td>188</td>\n",
       "      <td>22.0</td>\n",
       "    </tr>\n",
       "    <tr>\n",
       "      <th>20</th>\n",
       "      <td>C</td>\n",
       "      <td>115</td>\n",
       "      <td>29.7</td>\n",
       "    </tr>\n",
       "    <tr>\n",
       "      <th>21</th>\n",
       "      <td>C</td>\n",
       "      <td>88</td>\n",
       "      <td>28.9</td>\n",
       "    </tr>\n",
       "    <tr>\n",
       "      <th>22</th>\n",
       "      <td>C</td>\n",
       "      <td>58</td>\n",
       "      <td>32.8</td>\n",
       "    </tr>\n",
       "    <tr>\n",
       "      <th>23</th>\n",
       "      <td>C</td>\n",
       "      <td>49</td>\n",
       "      <td>32.5</td>\n",
       "    </tr>\n",
       "    <tr>\n",
       "      <th>24</th>\n",
       "      <td>C</td>\n",
       "      <td>150</td>\n",
       "      <td>25.4</td>\n",
       "    </tr>\n",
       "    <tr>\n",
       "      <th>25</th>\n",
       "      <td>C</td>\n",
       "      <td>107</td>\n",
       "      <td>31.7</td>\n",
       "    </tr>\n",
       "    <tr>\n",
       "      <th>26</th>\n",
       "      <td>C</td>\n",
       "      <td>125</td>\n",
       "      <td>28.5</td>\n",
       "    </tr>\n",
       "  </tbody>\n",
       "</table>\n",
       "</div>"
      ],
      "text/plain": [
       "   lote  horas  monto\n",
       "0     A     99   25.8\n",
       "1     A    152   20.5\n",
       "2     A    293   14.3\n",
       "3     A    155   23.2\n",
       "4     A    196   20.6\n",
       "5     A     53   31.1\n",
       "6     A    184   20.9\n",
       "7     A    171   20.9\n",
       "8     A     52   30.4\n",
       "9     B    376   16.3\n",
       "10    B    385   11.6\n",
       "11    B    402   11.8\n",
       "12    B     29   32.5\n",
       "13    B     76   32.0\n",
       "14    B    296   18.0\n",
       "15    B    151   24.1\n",
       "16    B    177   26.5\n",
       "17    B    209   25.8\n",
       "18    C    119   28.8\n",
       "19    C    188   22.0\n",
       "20    C    115   29.7\n",
       "21    C     88   28.9\n",
       "22    C     58   32.8\n",
       "23    C     49   32.5\n",
       "24    C    150   25.4\n",
       "25    C    107   31.7\n",
       "26    C    125   28.5"
      ]
     },
     "execution_count": 4,
     "metadata": {},
     "output_type": "execute_result"
    }
   ],
   "source": [
    "ruta = \"./data/\"\n",
    "bd=\"lineal_horm.xlsx\"\n",
    "bd_horm=pd.read_excel(ruta+bd)\n",
    "bd_horm"
   ]
  },
  {
   "cell_type": "code",
   "execution_count": 6,
   "metadata": {},
   "outputs": [],
   "source": [
    "reg = linear_model.LinearRegression()"
   ]
  },
  {
   "cell_type": "code",
   "execution_count": 27,
   "metadata": {},
   "outputs": [],
   "source": [
    "X = bd_horm[[\"horas\"]]\n",
    "y = bd_horm[[\"monto\"]]"
   ]
  },
  {
   "cell_type": "code",
   "execution_count": 28,
   "metadata": {},
   "outputs": [
    {
     "data": {
      "text/plain": [
       "LinearRegression()"
      ]
     },
     "execution_count": 28,
     "metadata": {},
     "output_type": "execute_result"
    }
   ],
   "source": [
    "reg.fit(X, y)"
   ]
  },
  {
   "cell_type": "code",
   "execution_count": 29,
   "metadata": {},
   "outputs": [
    {
     "data": {
      "text/plain": [
       "array([[-0.0574463]])"
      ]
     },
     "execution_count": 29,
     "metadata": {},
     "output_type": "execute_result"
    }
   ],
   "source": [
    "reg.coef_"
   ]
  },
  {
   "cell_type": "code",
   "execution_count": 10,
   "metadata": {},
   "outputs": [
    {
     "data": {
      "text/plain": [
       "array([34.16752817])"
      ]
     },
     "execution_count": 10,
     "metadata": {},
     "output_type": "execute_result"
    }
   ],
   "source": [
    "reg.intercept_"
   ]
  },
  {
   "cell_type": "code",
   "execution_count": 30,
   "metadata": {},
   "outputs": [
    {
     "data": {
      "text/plain": [
       "array([[28.4803446 ],\n",
       "       [25.43569077],\n",
       "       [17.33576266],\n",
       "       [25.26335188],\n",
       "       [22.90805363],\n",
       "       [31.12287434],\n",
       "       [23.59740921],\n",
       "       [24.3442111 ],\n",
       "       [31.18032064],\n",
       "       [12.56771986],\n",
       "       [12.05070318],\n",
       "       [11.0741161 ],\n",
       "       [32.50158551],\n",
       "       [29.80160947],\n",
       "       [17.16342376],\n",
       "       [25.49313707],\n",
       "       [23.9995333 ],\n",
       "       [22.16125175],\n",
       "       [27.33141863],\n",
       "       [23.36762402],\n",
       "       [27.56120382],\n",
       "       [29.11225389],\n",
       "       [30.83564285],\n",
       "       [31.35265954],\n",
       "       [25.55058337],\n",
       "       [28.02077421],\n",
       "       [26.98674084]])"
      ]
     },
     "execution_count": 30,
     "metadata": {},
     "output_type": "execute_result"
    }
   ],
   "source": [
    "Y_pred = reg.predict(X) \n",
    "Y_pred"
   ]
  },
  {
   "cell_type": "code",
   "execution_count": 31,
   "metadata": {},
   "outputs": [
    {
     "data": {
      "text/plain": [
       "array([28.4803446 , 25.43569077, 17.33576266, 25.26335188, 22.90805363,\n",
       "       31.12287434, 23.59740921, 24.3442111 , 31.18032064, 12.56771986,\n",
       "       12.05070318, 11.0741161 , 32.50158551, 29.80160947, 17.16342376,\n",
       "       25.49313707, 23.9995333 , 22.16125175, 27.33141863, 23.36762402,\n",
       "       27.56120382, 29.11225389, 30.83564285, 31.35265954, 25.55058337,\n",
       "       28.02077421, 26.98674084])"
      ]
     },
     "execution_count": 31,
     "metadata": {},
     "output_type": "execute_result"
    }
   ],
   "source": [
    "y_estim=Y_pred.reshape(-1)\n",
    "y_estim\n"
   ]
  },
  {
   "cell_type": "code",
   "execution_count": 32,
   "metadata": {},
   "outputs": [
    {
     "data": {
      "text/plain": [
       "array([ 99, 152, 293, 155, 196,  53, 184, 171,  52, 376, 385, 402,  29,\n",
       "        76, 296, 151, 177, 209, 119, 188, 115,  88,  58,  49, 150, 107,\n",
       "       125], dtype=int64)"
      ]
     },
     "execution_count": 32,
     "metadata": {},
     "output_type": "execute_result"
    }
   ],
   "source": [
    "x=X.to_numpy().reshape(-1)\n",
    "x"
   ]
  },
  {
   "cell_type": "code",
   "execution_count": 33,
   "metadata": {},
   "outputs": [
    {
     "data": {
      "text/plain": [
       "array([25.8, 20.5, 14.3, 23.2, 20.6, 31.1, 20.9, 20.9, 30.4, 16.3, 11.6,\n",
       "       11.8, 32.5, 32. , 18. , 24.1, 26.5, 25.8, 28.8, 22. , 29.7, 28.9,\n",
       "       32.8, 32.5, 25.4, 31.7, 28.5])"
      ]
     },
     "execution_count": 33,
     "metadata": {},
     "output_type": "execute_result"
    }
   ],
   "source": [
    "y_real=y.to_numpy()\n",
    "y_real=y_real.reshape(-1)\n",
    "n=len(y_real)\n",
    "y_real"
   ]
  },
  {
   "cell_type": "code",
   "execution_count": 34,
   "metadata": {},
   "outputs": [
    {
     "data": {
      "text/plain": [
       "array([-2.68034460e+00, -4.93569077e+00, -3.03576266e+00, -2.06335188e+00,\n",
       "       -2.30805363e+00, -2.28743430e-02, -2.69740921e+00, -3.44421110e+00,\n",
       "       -7.80320642e-01,  3.73228014e+00, -4.50703175e-01,  7.25883902e-01,\n",
       "       -1.58551177e-03,  2.19839053e+00,  8.36576241e-01, -1.39313707e+00,\n",
       "        2.50046670e+00,  3.63874825e+00,  1.46858137e+00, -1.36762402e+00,\n",
       "        2.13879618e+00, -2.12253889e-01,  1.96435715e+00,  1.14734046e+00,\n",
       "       -1.50583369e-01,  3.67922579e+00,  1.51325916e+00])"
      ]
     },
     "execution_count": 34,
     "metadata": {},
     "output_type": "execute_result"
    }
   ],
   "source": [
    "residual=y_real-y_estim\n",
    "residual"
   ]
  },
  {
   "cell_type": "code",
   "execution_count": 35,
   "metadata": {},
   "outputs": [
    {
     "data": {
      "text/plain": [
       "0.004295652626358282"
      ]
     },
     "execution_count": 35,
     "metadata": {},
     "output_type": "execute_result"
    }
   ],
   "source": [
    "den=sum((x-np.mean(x))**2)\n",
    "num=sum(residual**2)/(n)\n",
    "err_reg1=np.sqrt(num/den)\n",
    "err_reg1\n"
   ]
  },
  {
   "cell_type": "code",
   "execution_count": 18,
   "metadata": {},
   "outputs": [
    {
     "data": {
      "image/png": "[encoded data removed]",
      "text/plain": [
       "<Figure size 648x432 with 1 Axes>"
      ]
     },
     "metadata": {
      "needs_background": "light"
     },
     "output_type": "display_data"
    }
   ],
   "source": [
    "fig, ax = plt.subplots(figsize=(9,6))\n",
    "plt.scatter(X, y,s=30)\n",
    "plt.plot(X, Y_pred, color='red')\n",
    "xlabel(\"Horas\",size=14)\n",
    "ylabel(\"Monto\",size=14)\n",
    "xticks(fontsize=16)\n",
    "yticks(fontsize=16)\n",
    "show()"
   ]
  },
  {
   "cell_type": "code",
   "execution_count": 39,
   "metadata": {},
   "outputs": [],
   "source": [
    "err_boost=np.array([])\n",
    "for i in range(0,200): \n",
    "    bd_random=bd_horm.groupby(\"lote\").sample(n=5,replace=True)\n",
    "    X = bd_random[[\"horas\"]]\n",
    "    y = bd_random[[\"monto\"]]\n",
    "    reg.fit(X,y)\n",
    "    Y_pred = reg.predict(X)\n",
    "    y_estim=Y_pred.reshape(-1)\n",
    "    x=X.to_numpy().reshape(-1)\n",
    "    y_real=y.to_numpy()\n",
    "    y_real=y_real.reshape(-1)\n",
    "    n=len(y_real)\n",
    "    residual=y_real-y_estim\n",
    "    den=sum((x-np.mean(x))**2)\n",
    "    num=sum(residual**2)/(n) \n",
    "    err_reg=np.sqrt(num/den)\n",
    "    err_boost=np.append(err_boost,err_reg)"
   ]
  },
  {
   "cell_type": "code",
   "execution_count": 25,
   "metadata": {},
   "outputs": [
    {
     "name": "stdout",
     "output_type": "stream",
     "text": [
      "[0.0068074  0.00551683 0.00717659 0.00530166 0.00635844 0.00402298\n",
      " 0.00655604 0.00885747 0.00561479 0.00601684 0.00645759 0.00520455\n",
      " 0.00500171 0.0152165  0.00329816 0.00645343 0.00584282 0.01289846\n",
      " 0.00789821 0.00706654 0.00346491 0.00595743 0.00488131 0.00542474\n",
      " 0.00462997 0.00446769 0.00486835 0.00348108 0.00568855 0.00553677\n",
      " 0.00541559 0.00625617 0.00566991 0.00533001 0.00821379 0.00634278\n",
      " 0.00603687 0.00530919 0.00459227 0.00571805 0.00530051 0.00674138\n",
      " 0.00861408 0.00754194 0.00639199 0.00568299 0.00650076 0.00796699\n",
      " 0.00417165 0.00548594 0.00565997 0.00534405 0.00783541 0.00597083\n",
      " 0.00721243 0.00601858 0.00372873 0.00408166 0.00657536 0.00499567\n",
      " 0.00464741 0.00485481 0.00401925 0.00570982 0.00491468 0.00805556\n",
      " 0.00497566 0.00558827 0.00721148 0.00599615 0.01063759 0.00567005\n",
      " 0.00650266 0.0056605  0.00388639 0.00532081 0.0055788  0.00632406\n",
      " 0.00695378 0.00630257 0.00655391 0.00434968 0.00436853 0.00400801\n",
      " 0.00736588 0.00713145 0.00638907 0.00595303 0.00887542 0.00461865\n",
      " 0.0040236  0.01336    0.00411413 0.00505764 0.00709456 0.00528943\n",
      " 0.0060542  0.00446277 0.005066   0.00765237 0.00537135 0.00552106\n",
      " 0.0063173  0.004512   0.00675634 0.00602813 0.00606873 0.00510909\n",
      " 0.00386659 0.0096136  0.0054215  0.00479133 0.00518011 0.005909\n",
      " 0.00468083 0.00970227 0.00559628 0.00860755 0.00500591 0.00387991\n",
      " 0.01257478 0.0045378  0.00657675 0.00599079 0.0052017  0.00526072\n",
      " 0.00590574 0.00471889 0.00345103 0.00665003 0.00615638 0.00621904\n",
      " 0.00421368 0.00364741 0.00554654 0.00654597 0.00434985 0.01193811\n",
      " 0.00416711 0.00754231 0.00702884 0.00777631 0.00450373 0.00538289\n",
      " 0.00445165 0.01072896 0.00864481 0.00481764 0.00511954 0.00552083\n",
      " 0.00481396 0.00434763 0.00540584 0.00502582 0.00507532 0.00529049\n",
      " 0.00485749 0.00595629 0.00588806 0.00578456 0.00746361 0.00638758\n",
      " 0.00655704 0.00739333 0.0058523  0.0047748  0.00394473 0.00594151\n",
      " 0.00486273 0.00668727 0.00512986 0.00415816 0.00566411 0.00560919\n",
      " 0.00510864 0.00490123 0.00935896 0.00634757 0.00690579 0.00827392\n",
      " 0.00603085 0.00591086 0.00470661 0.00640692 0.00774041 0.00706395\n",
      " 0.00635563 0.00539515 0.0055583  0.00547435 0.00602235 0.00401559\n",
      " 0.00618078 0.0062337  0.00698792 0.01285835 0.00410966 0.00662557\n",
      " 0.00573898 0.00566429]\n"
     ]
    }
   ],
   "source": [
    "print(err_boost)"
   ]
  },
  {
   "cell_type": "code",
   "execution_count": 36,
   "metadata": {},
   "outputs": [],
   "source": [
    "def hist_corr(cor_boost,corr1):\n",
    "    fig, ax = plt.subplots(figsize=(9,6))\n",
    "    hist(cor_boost,bins=50,alpha=0.5,edgecolor=\"white\",label=\"Corr Boostrap\")\n",
    "    axvline(x=corr1,color='green', linestyle='--',linewidth=3,label=\"Correlacion sin boostrap\")\n",
    "    axvline(x=np.mean(cor_boost),color='black', linestyle='--',linewidth=3,label=\"correlación Boostrap$\")\n",
    "\n",
    "    axvline(percentile(cor_boost,2.5),color=\"blue\",linestyle=\"--\",linewidth=2)                                                                                                                                                    \n",
    "    axvline(percentile(cor_boost,97.5),color=\"blue\",linestyle=\"--\",linewidth=2) \n",
    "    show()\n",
    "    print(\"Correlacion sin Bootsrap:\", corr1)\n",
    "    print(\"Promedio de la Correlacion de las muestras Bootstrap:\", np.mean(cor_boost))\n",
    "    print(\"(\", percentile(cor_boost,2.5),\",\",percentile(cor_boost,97.5),\")\")"
   ]
  },
  {
   "cell_type": "code",
   "execution_count": 38,
   "metadata": {},
   "outputs": [
    {
     "data": {
      "image/png": "[encoded data removed]",
      "text/plain": [
       "<Figure size 648x432 with 1 Axes>"
      ]
     },
     "metadata": {
      "needs_background": "light"
     },
     "output_type": "display_data"
    },
    {
     "name": "stdout",
     "output_type": "stream",
     "text": [
      "Correlacion sin Bootsrap: 0.004295652626358282\n",
      "Promedio de la Correlacion de las muestras Bootstrap: 0.006046143529364344\n",
      "( 0.003726694257076643 , 0.011954026844267957 )\n"
     ]
    }
   ],
   "source": [
    "hist_corr(err_boost,err_reg1)"
   ]
  }
 ],
 "metadata": {
  "kernelspec": {
   "display_name": "Python 3",
   "language": "python",
   "name": "python3"
  },
  "language_info": {
   "codemirror_mode": {
    "name": "ipython",
    "version": 3
   },
   "file_extension": ".py",
   "mimetype": "text/x-python",
   "name": "python",
   "nbconvert_exporter": "python",
   "pygments_lexer": "ipython3",
   "version": "3.8.5"
  }
 },
 "nbformat": 4,
 "nbformat_minor": 4
}
