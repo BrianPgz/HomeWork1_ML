{
 "cells": [
  {
   "cell_type": "code",
   "execution_count": null,
   "metadata": {},
   "outputs": [],
   "source": [
    "from pylab import*\n",
    "import numpy as np\n",
    "import scipy.stats \n",
    "from scipy.special import gamma\n",
    "import seaborn as sns\n",
    "from scipy.stats import beta\n",
    "from scipy.stats import spearmanr\n",
    "import pandas as pd\n",
    "from sklearn import linear_model"
   ]
  },
  {
   "cell_type": "code",
   "execution_count": null,
   "metadata": {},
   "outputs": [],
   "source": [
    "#Vamos a ver la base, que consta de lote que una variable categorica, horas como medida de tiempo y monto en dinero\n",
    "ruta = \"./data/\"\n",
    "bd=\"lineal_horm.xlsx\"\n",
    "bd_horm=pd.read_excel(ruta+bd)\n",
    "bd_horm"
   ]
  },
  {
   "cell_type": "code",
   "execution_count": null,
   "metadata": {},
   "outputs": [],
   "source": [
    "#Vamos a llamar a la regresion lineal para usarla como reg cuando se necesite \n",
    "reg = linear_model.LinearRegression()"
   ]
  },
  {
   "cell_type": "code",
   "execution_count": null,
   "metadata": {},
   "outputs": [],
   "source": [
    "#Vamos a usar a x como variable explicativa (horas), vamos a usar y como variable de respuesta (monto), queremos explicar el monto\n",
    "#a traves del tiempo\n",
    "X = bd_horm[[\"horas\"]]\n",
    "y = bd_horm[[\"monto\"]]"
   ]
  },
  {
   "cell_type": "code",
   "execution_count": null,
   "metadata": {},
   "outputs": [],
   "source": [
    "#Hacemos la regresion lineal de x con y\n",
    "reg.fit(X, y)"
   ]
  },
  {
   "cell_type": "code",
   "execution_count": null,
   "metadata": {},
   "outputs": [],
   "source": [
    "#obtenemos el beta_1 de la regresion\n",
    "reg.coef_"
   ]
  },
  {
   "cell_type": "code",
   "execution_count": null,
   "metadata": {},
   "outputs": [],
   "source": [
    "#obtenemos el beta_0 para la regresion\n",
    "reg.intercept_"
   ]
  },
  {
   "cell_type": "code",
   "execution_count": null,
   "metadata": {},
   "outputs": [],
   "source": [
    "#predecimos valores de la regresion que son las valores en la recta para cada punto en el tiempo x variable explicativa\n",
    "Y_pred = reg.predict(X) \n",
    "Y_pred"
   ]
  },
  {
   "cell_type": "code",
   "execution_count": null,
   "metadata": {},
   "outputs": [],
   "source": [
    "#Hacemos un cambio en la visualizacion de los valores predichos para que sea como una lista\n",
    "y_estim=Y_pred.reshape(-1)\n",
    "y_estim\n"
   ]
  },
  {
   "cell_type": "code",
   "execution_count": null,
   "metadata": {},
   "outputs": [],
   "source": [
    "#Transformamos los datos de x para que sea mas facil de manejarlos\n",
    "x=X.to_numpy().reshape(-1)\n",
    "x"
   ]
  },
  {
   "cell_type": "code",
   "execution_count": null,
   "metadata": {},
   "outputs": [],
   "source": [
    "#Volvemos a transformar a y para que sea mas facil de manejar, pero son los datos reales de la base de datos\n",
    "y_real=y.to_numpy()\n",
    "y_real=y_real.reshape(-1)\n",
    "n=len(y_real)\n",
    "y_real"
   ]
  },
  {
   "cell_type": "code",
   "execution_count": null,
   "metadata": {},
   "outputs": [],
   "source": [
    "#obtenemos los residuales como la diferencia de los valores reales de la base con los predichos por el modelo\n",
    "residual=y_real-y_estim\n",
    "residual"
   ]
  },
  {
   "cell_type": "code",
   "execution_count": null,
   "metadata": {},
   "outputs": [],
   "source": [
    "#obtenemos el error estandar de la correlacion bajo la muestra completa, sin muestras bootstrap\n",
    "den=sum((x-np.mean(x))**2)\n",
    "num=sum(residual**2)/(n)\n",
    "err_reg1=np.sqrt(num/den)\n",
    "err_reg1\n"
   ]
  },
  {
   "cell_type": "code",
   "execution_count": null,
   "metadata": {},
   "outputs": [],
   "source": [
    "#Hacemos el plot de la regresion de horas vs monto, vemos que tiene pendiente negativa\n",
    "fig, ax = plt.subplots(figsize=(9,6))\n",
    "plt.scatter(X, y,s=30)\n",
    "plt.plot(X, Y_pred, color='red')\n",
    "xlabel(\"Horas\",size=14)\n",
    "ylabel(\"Monto\",size=14)\n",
    "xticks(fontsize=16)\n",
    "yticks(fontsize=16)\n",
    "show()"
   ]
  },
  {
   "cell_type": "code",
   "execution_count": null,
   "metadata": {},
   "outputs": [],
   "source": [
    "#Nos tomamos un vector vacio para llenarlos con errores estandar de la regresion, que se toma con muestras de tamanio 5 y con\n",
    "#remplazo, hasta que sean 200 iteraciones, por cada regresion nos tomamos los residuales y calculamos el error de la correlacion. La muestra \n",
    "#se toma de la base original tomando renglones completos del data frame agrupado por lote, una vez tenemos la muestra, nos tomamos \n",
    "#las horas y el monto para hacer el modelo de regresion\n",
    "err_boost=np.array([])\n",
    "for i in range(0,200): \n",
    "    bd_random=bd_horm.groupby(\"lote\").sample(n=5,replace=True)\n",
    "    X = bd_random[[\"horas\"]]\n",
    "    y = bd_random[[\"monto\"]]\n",
    "    reg.fit(X,y)\n",
    "    Y_pred = reg.predict(X)\n",
    "    y_estim=Y_pred.reshape(-1)\n",
    "    x=X.to_numpy().reshape(-1)\n",
    "    y_real=y.to_numpy()\n",
    "    y_real=y_real.reshape(-1)\n",
    "    n=len(y_real)\n",
    "    residual=y_real-y_estim\n",
    "    den=sum((x-np.mean(x))**2)\n",
    "    num=sum(residual**2)/(n) \n",
    "    err_reg=np.sqrt(num/den)\n",
    "    err_boost=np.append(err_boost,err_reg)"
   ]
  },
  {
   "cell_type": "code",
   "execution_count": null,
   "metadata": {},
   "outputs": [],
   "source": [
    "#Vemos el vector de errores con base en cada muestra \n",
    "print(err_boost)"
   ]
  },
  {
   "cell_type": "code",
   "execution_count": null,
   "metadata": {},
   "outputs": [],
   "source": [
    "#ploteamos el histograma de las correlaciones, con \n",
    "def hist_corr(cor_boost,corr1):\n",
    "    fig, ax = plt.subplots(figsize=(9,6))\n",
    "    hist(cor_boost,bins=50,alpha=0.5,edgecolor=\"white\",label=\"Corr Boostrap\")\n",
    "    axvline(x=corr1,color='green', linestyle='--',linewidth=3,label=\"Correlacion sin boostrap\")\n",
    "    axvline(x=np.mean(cor_boost),color='black', linestyle='--',linewidth=3,label=\"correlación Boostrap$\")\n",
    "\n",
    "    axvline(percentile(cor_boost,2.5),color=\"blue\",linestyle=\"--\",linewidth=2)                                                                                                                                                    \n",
    "    axvline(percentile(cor_boost,97.5),color=\"blue\",linestyle=\"--\",linewidth=2) \n",
    "    show()\n",
    "    print(\"Correlacion sin Bootsrap:\", corr1)\n",
    "    print(\"Promedio de la Correlacion de las muestras Bootstrap:\", np.mean(cor_boost))\n",
    "    print(\"(\", percentile(cor_boost,2.5),\",\",percentile(cor_boost,97.5),\")\")"
   ]
  },
  {
   "cell_type": "code",
   "execution_count": null,
   "metadata": {},
   "outputs": [],
   "source": [
    "hist_corr(err_boost,err_reg1)"
   ]
  }
 ],
 "metadata": {
  "kernelspec": {
   "display_name": "Python 3",
   "language": "python",
   "name": "python3"
  },
  "language_info": {
   "codemirror_mode": {
    "name": "ipython",
    "version": 3
   },
   "file_extension": ".py",
   "mimetype": "text/x-python",
   "name": "python",
   "nbconvert_exporter": "python",
   "pygments_lexer": "ipython3",
   "version": "3.8.5"
  }
 },
 "nbformat": 4,
 "nbformat_minor": 4
}
